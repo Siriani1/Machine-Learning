{
 "cells": [
  {
   "cell_type": "code",
   "execution_count": 107,
   "metadata": {},
   "outputs": [],
   "source": [
    "import pandas as pd\n",
    "df = pd.read_csv('data/accent-mfcc-data-1.csv')"
   ]
  },
  {
   "cell_type": "code",
   "execution_count": 108,
   "metadata": {},
   "outputs": [
    {
     "data": {
      "text/html": [
       "<div>\n",
       "<style scoped>\n",
       "    .dataframe tbody tr th:only-of-type {\n",
       "        vertical-align: middle;\n",
       "    }\n",
       "\n",
       "    .dataframe tbody tr th {\n",
       "        vertical-align: top;\n",
       "    }\n",
       "\n",
       "    .dataframe thead th {\n",
       "        text-align: right;\n",
       "    }\n",
       "</style>\n",
       "<table border=\"1\" class=\"dataframe\">\n",
       "  <thead>\n",
       "    <tr style=\"text-align: right;\">\n",
       "      <th></th>\n",
       "      <th>language</th>\n",
       "      <th>X1</th>\n",
       "      <th>X2</th>\n",
       "      <th>X3</th>\n",
       "      <th>X4</th>\n",
       "      <th>X5</th>\n",
       "      <th>X6</th>\n",
       "      <th>X7</th>\n",
       "      <th>X8</th>\n",
       "      <th>X9</th>\n",
       "      <th>X10</th>\n",
       "      <th>X11</th>\n",
       "      <th>X12</th>\n",
       "    </tr>\n",
       "  </thead>\n",
       "  <tbody>\n",
       "    <tr>\n",
       "      <th>0</th>\n",
       "      <td>ES</td>\n",
       "      <td>7.071476</td>\n",
       "      <td>-6.512900</td>\n",
       "      <td>7.650800</td>\n",
       "      <td>11.150783</td>\n",
       "      <td>-7.657312</td>\n",
       "      <td>12.484021</td>\n",
       "      <td>-11.709772</td>\n",
       "      <td>3.426596</td>\n",
       "      <td>1.462715</td>\n",
       "      <td>-2.812753</td>\n",
       "      <td>0.866538</td>\n",
       "      <td>-5.244274</td>\n",
       "    </tr>\n",
       "    <tr>\n",
       "      <th>1</th>\n",
       "      <td>ES</td>\n",
       "      <td>10.982967</td>\n",
       "      <td>-5.157445</td>\n",
       "      <td>3.952060</td>\n",
       "      <td>11.529381</td>\n",
       "      <td>-7.638047</td>\n",
       "      <td>12.136098</td>\n",
       "      <td>-12.036247</td>\n",
       "      <td>3.491943</td>\n",
       "      <td>0.595441</td>\n",
       "      <td>-4.508811</td>\n",
       "      <td>2.332147</td>\n",
       "      <td>-6.221857</td>\n",
       "    </tr>\n",
       "    <tr>\n",
       "      <th>2</th>\n",
       "      <td>ES</td>\n",
       "      <td>7.827108</td>\n",
       "      <td>-5.477472</td>\n",
       "      <td>7.816257</td>\n",
       "      <td>9.187592</td>\n",
       "      <td>-7.172511</td>\n",
       "      <td>11.715299</td>\n",
       "      <td>-13.847214</td>\n",
       "      <td>4.574075</td>\n",
       "      <td>-1.687559</td>\n",
       "      <td>-7.204041</td>\n",
       "      <td>-0.011847</td>\n",
       "      <td>-6.463144</td>\n",
       "    </tr>\n",
       "    <tr>\n",
       "      <th>3</th>\n",
       "      <td>ES</td>\n",
       "      <td>6.744083</td>\n",
       "      <td>-5.688920</td>\n",
       "      <td>6.546789</td>\n",
       "      <td>9.000183</td>\n",
       "      <td>-6.924963</td>\n",
       "      <td>11.710766</td>\n",
       "      <td>-12.374388</td>\n",
       "      <td>6.169879</td>\n",
       "      <td>-0.544747</td>\n",
       "      <td>-6.019237</td>\n",
       "      <td>1.358559</td>\n",
       "      <td>-6.356441</td>\n",
       "    </tr>\n",
       "    <tr>\n",
       "      <th>4</th>\n",
       "      <td>ES</td>\n",
       "      <td>5.836843</td>\n",
       "      <td>-5.326557</td>\n",
       "      <td>7.472265</td>\n",
       "      <td>8.847440</td>\n",
       "      <td>-6.773244</td>\n",
       "      <td>12.677218</td>\n",
       "      <td>-12.315061</td>\n",
       "      <td>4.416344</td>\n",
       "      <td>0.193500</td>\n",
       "      <td>-3.644812</td>\n",
       "      <td>2.151239</td>\n",
       "      <td>-6.816310</td>\n",
       "    </tr>\n",
       "    <tr>\n",
       "      <th>...</th>\n",
       "      <td>...</td>\n",
       "      <td>...</td>\n",
       "      <td>...</td>\n",
       "      <td>...</td>\n",
       "      <td>...</td>\n",
       "      <td>...</td>\n",
       "      <td>...</td>\n",
       "      <td>...</td>\n",
       "      <td>...</td>\n",
       "      <td>...</td>\n",
       "      <td>...</td>\n",
       "      <td>...</td>\n",
       "      <td>...</td>\n",
       "    </tr>\n",
       "    <tr>\n",
       "      <th>324</th>\n",
       "      <td>US</td>\n",
       "      <td>-0.525273</td>\n",
       "      <td>-3.868338</td>\n",
       "      <td>3.548304</td>\n",
       "      <td>1.496249</td>\n",
       "      <td>3.490753</td>\n",
       "      <td>5.849887</td>\n",
       "      <td>-7.747027</td>\n",
       "      <td>9.738836</td>\n",
       "      <td>-11.754543</td>\n",
       "      <td>7.129909</td>\n",
       "      <td>0.209947</td>\n",
       "      <td>-1.946914</td>\n",
       "    </tr>\n",
       "    <tr>\n",
       "      <th>325</th>\n",
       "      <td>US</td>\n",
       "      <td>-2.094001</td>\n",
       "      <td>-1.073113</td>\n",
       "      <td>1.217397</td>\n",
       "      <td>-0.550790</td>\n",
       "      <td>2.666547</td>\n",
       "      <td>7.449942</td>\n",
       "      <td>-6.418064</td>\n",
       "      <td>10.907098</td>\n",
       "      <td>-11.134323</td>\n",
       "      <td>6.728373</td>\n",
       "      <td>2.461446</td>\n",
       "      <td>-0.026113</td>\n",
       "    </tr>\n",
       "    <tr>\n",
       "      <th>326</th>\n",
       "      <td>US</td>\n",
       "      <td>2.116909</td>\n",
       "      <td>-4.441482</td>\n",
       "      <td>5.350392</td>\n",
       "      <td>3.675396</td>\n",
       "      <td>2.715876</td>\n",
       "      <td>3.682670</td>\n",
       "      <td>-4.500850</td>\n",
       "      <td>11.798565</td>\n",
       "      <td>-12.031005</td>\n",
       "      <td>7.566142</td>\n",
       "      <td>-0.606010</td>\n",
       "      <td>-2.245129</td>\n",
       "    </tr>\n",
       "    <tr>\n",
       "      <th>327</th>\n",
       "      <td>US</td>\n",
       "      <td>0.299616</td>\n",
       "      <td>0.324844</td>\n",
       "      <td>3.299919</td>\n",
       "      <td>2.044040</td>\n",
       "      <td>3.634828</td>\n",
       "      <td>6.693840</td>\n",
       "      <td>-5.676224</td>\n",
       "      <td>12.000518</td>\n",
       "      <td>-11.912901</td>\n",
       "      <td>4.664406</td>\n",
       "      <td>1.197789</td>\n",
       "      <td>-2.230275</td>\n",
       "    </tr>\n",
       "    <tr>\n",
       "      <th>328</th>\n",
       "      <td>US</td>\n",
       "      <td>3.214254</td>\n",
       "      <td>-3.135152</td>\n",
       "      <td>1.122691</td>\n",
       "      <td>4.712444</td>\n",
       "      <td>5.926518</td>\n",
       "      <td>6.915566</td>\n",
       "      <td>-5.799727</td>\n",
       "      <td>10.858532</td>\n",
       "      <td>-11.659845</td>\n",
       "      <td>10.605734</td>\n",
       "      <td>0.349482</td>\n",
       "      <td>-5.983281</td>\n",
       "    </tr>\n",
       "  </tbody>\n",
       "</table>\n",
       "<p>329 rows × 13 columns</p>\n",
       "</div>"
      ],
      "text/plain": [
       "    language         X1        X2        X3         X4        X5         X6  \\\n",
       "0         ES   7.071476 -6.512900  7.650800  11.150783 -7.657312  12.484021   \n",
       "1         ES  10.982967 -5.157445  3.952060  11.529381 -7.638047  12.136098   \n",
       "2         ES   7.827108 -5.477472  7.816257   9.187592 -7.172511  11.715299   \n",
       "3         ES   6.744083 -5.688920  6.546789   9.000183 -6.924963  11.710766   \n",
       "4         ES   5.836843 -5.326557  7.472265   8.847440 -6.773244  12.677218   \n",
       "..       ...        ...       ...       ...        ...       ...        ...   \n",
       "324       US  -0.525273 -3.868338  3.548304   1.496249  3.490753   5.849887   \n",
       "325       US  -2.094001 -1.073113  1.217397  -0.550790  2.666547   7.449942   \n",
       "326       US   2.116909 -4.441482  5.350392   3.675396  2.715876   3.682670   \n",
       "327       US   0.299616  0.324844  3.299919   2.044040  3.634828   6.693840   \n",
       "328       US   3.214254 -3.135152  1.122691   4.712444  5.926518   6.915566   \n",
       "\n",
       "            X7         X8         X9        X10       X11       X12  \n",
       "0   -11.709772   3.426596   1.462715  -2.812753  0.866538 -5.244274  \n",
       "1   -12.036247   3.491943   0.595441  -4.508811  2.332147 -6.221857  \n",
       "2   -13.847214   4.574075  -1.687559  -7.204041 -0.011847 -6.463144  \n",
       "3   -12.374388   6.169879  -0.544747  -6.019237  1.358559 -6.356441  \n",
       "4   -12.315061   4.416344   0.193500  -3.644812  2.151239 -6.816310  \n",
       "..         ...        ...        ...        ...       ...       ...  \n",
       "324  -7.747027   9.738836 -11.754543   7.129909  0.209947 -1.946914  \n",
       "325  -6.418064  10.907098 -11.134323   6.728373  2.461446 -0.026113  \n",
       "326  -4.500850  11.798565 -12.031005   7.566142 -0.606010 -2.245129  \n",
       "327  -5.676224  12.000518 -11.912901   4.664406  1.197789 -2.230275  \n",
       "328  -5.799727  10.858532 -11.659845  10.605734  0.349482 -5.983281  \n",
       "\n",
       "[329 rows x 13 columns]"
      ]
     },
     "execution_count": 108,
     "metadata": {},
     "output_type": "execute_result"
    }
   ],
   "source": [
    "df"
   ]
  },
  {
   "cell_type": "code",
   "execution_count": 109,
   "metadata": {},
   "outputs": [],
   "source": [
    "df.language.replace(['UK','ES', 'FR', 'GE', 'IT', 'US'], [1, 2, 3, 4, 5, 6], inplace=True)\n"
   ]
  },
  {
   "cell_type": "code",
   "execution_count": 110,
   "metadata": {},
   "outputs": [
    {
     "data": {
      "text/html": [
       "<div>\n",
       "<style scoped>\n",
       "    .dataframe tbody tr th:only-of-type {\n",
       "        vertical-align: middle;\n",
       "    }\n",
       "\n",
       "    .dataframe tbody tr th {\n",
       "        vertical-align: top;\n",
       "    }\n",
       "\n",
       "    .dataframe thead th {\n",
       "        text-align: right;\n",
       "    }\n",
       "</style>\n",
       "<table border=\"1\" class=\"dataframe\">\n",
       "  <thead>\n",
       "    <tr style=\"text-align: right;\">\n",
       "      <th></th>\n",
       "      <th>language</th>\n",
       "      <th>X1</th>\n",
       "      <th>X2</th>\n",
       "      <th>X3</th>\n",
       "      <th>X4</th>\n",
       "      <th>X5</th>\n",
       "      <th>X6</th>\n",
       "      <th>X7</th>\n",
       "      <th>X8</th>\n",
       "      <th>X9</th>\n",
       "      <th>X10</th>\n",
       "      <th>X11</th>\n",
       "      <th>X12</th>\n",
       "    </tr>\n",
       "  </thead>\n",
       "  <tbody>\n",
       "    <tr>\n",
       "      <th>0</th>\n",
       "      <td>2</td>\n",
       "      <td>7.071476</td>\n",
       "      <td>-6.512900</td>\n",
       "      <td>7.650800</td>\n",
       "      <td>11.150783</td>\n",
       "      <td>-7.657312</td>\n",
       "      <td>12.484021</td>\n",
       "      <td>-11.709772</td>\n",
       "      <td>3.426596</td>\n",
       "      <td>1.462715</td>\n",
       "      <td>-2.812753</td>\n",
       "      <td>0.866538</td>\n",
       "      <td>-5.244274</td>\n",
       "    </tr>\n",
       "    <tr>\n",
       "      <th>1</th>\n",
       "      <td>2</td>\n",
       "      <td>10.982967</td>\n",
       "      <td>-5.157445</td>\n",
       "      <td>3.952060</td>\n",
       "      <td>11.529381</td>\n",
       "      <td>-7.638047</td>\n",
       "      <td>12.136098</td>\n",
       "      <td>-12.036247</td>\n",
       "      <td>3.491943</td>\n",
       "      <td>0.595441</td>\n",
       "      <td>-4.508811</td>\n",
       "      <td>2.332147</td>\n",
       "      <td>-6.221857</td>\n",
       "    </tr>\n",
       "    <tr>\n",
       "      <th>2</th>\n",
       "      <td>2</td>\n",
       "      <td>7.827108</td>\n",
       "      <td>-5.477472</td>\n",
       "      <td>7.816257</td>\n",
       "      <td>9.187592</td>\n",
       "      <td>-7.172511</td>\n",
       "      <td>11.715299</td>\n",
       "      <td>-13.847214</td>\n",
       "      <td>4.574075</td>\n",
       "      <td>-1.687559</td>\n",
       "      <td>-7.204041</td>\n",
       "      <td>-0.011847</td>\n",
       "      <td>-6.463144</td>\n",
       "    </tr>\n",
       "    <tr>\n",
       "      <th>3</th>\n",
       "      <td>2</td>\n",
       "      <td>6.744083</td>\n",
       "      <td>-5.688920</td>\n",
       "      <td>6.546789</td>\n",
       "      <td>9.000183</td>\n",
       "      <td>-6.924963</td>\n",
       "      <td>11.710766</td>\n",
       "      <td>-12.374388</td>\n",
       "      <td>6.169879</td>\n",
       "      <td>-0.544747</td>\n",
       "      <td>-6.019237</td>\n",
       "      <td>1.358559</td>\n",
       "      <td>-6.356441</td>\n",
       "    </tr>\n",
       "    <tr>\n",
       "      <th>4</th>\n",
       "      <td>2</td>\n",
       "      <td>5.836843</td>\n",
       "      <td>-5.326557</td>\n",
       "      <td>7.472265</td>\n",
       "      <td>8.847440</td>\n",
       "      <td>-6.773244</td>\n",
       "      <td>12.677218</td>\n",
       "      <td>-12.315061</td>\n",
       "      <td>4.416344</td>\n",
       "      <td>0.193500</td>\n",
       "      <td>-3.644812</td>\n",
       "      <td>2.151239</td>\n",
       "      <td>-6.816310</td>\n",
       "    </tr>\n",
       "    <tr>\n",
       "      <th>...</th>\n",
       "      <td>...</td>\n",
       "      <td>...</td>\n",
       "      <td>...</td>\n",
       "      <td>...</td>\n",
       "      <td>...</td>\n",
       "      <td>...</td>\n",
       "      <td>...</td>\n",
       "      <td>...</td>\n",
       "      <td>...</td>\n",
       "      <td>...</td>\n",
       "      <td>...</td>\n",
       "      <td>...</td>\n",
       "      <td>...</td>\n",
       "    </tr>\n",
       "    <tr>\n",
       "      <th>324</th>\n",
       "      <td>6</td>\n",
       "      <td>-0.525273</td>\n",
       "      <td>-3.868338</td>\n",
       "      <td>3.548304</td>\n",
       "      <td>1.496249</td>\n",
       "      <td>3.490753</td>\n",
       "      <td>5.849887</td>\n",
       "      <td>-7.747027</td>\n",
       "      <td>9.738836</td>\n",
       "      <td>-11.754543</td>\n",
       "      <td>7.129909</td>\n",
       "      <td>0.209947</td>\n",
       "      <td>-1.946914</td>\n",
       "    </tr>\n",
       "    <tr>\n",
       "      <th>325</th>\n",
       "      <td>6</td>\n",
       "      <td>-2.094001</td>\n",
       "      <td>-1.073113</td>\n",
       "      <td>1.217397</td>\n",
       "      <td>-0.550790</td>\n",
       "      <td>2.666547</td>\n",
       "      <td>7.449942</td>\n",
       "      <td>-6.418064</td>\n",
       "      <td>10.907098</td>\n",
       "      <td>-11.134323</td>\n",
       "      <td>6.728373</td>\n",
       "      <td>2.461446</td>\n",
       "      <td>-0.026113</td>\n",
       "    </tr>\n",
       "    <tr>\n",
       "      <th>326</th>\n",
       "      <td>6</td>\n",
       "      <td>2.116909</td>\n",
       "      <td>-4.441482</td>\n",
       "      <td>5.350392</td>\n",
       "      <td>3.675396</td>\n",
       "      <td>2.715876</td>\n",
       "      <td>3.682670</td>\n",
       "      <td>-4.500850</td>\n",
       "      <td>11.798565</td>\n",
       "      <td>-12.031005</td>\n",
       "      <td>7.566142</td>\n",
       "      <td>-0.606010</td>\n",
       "      <td>-2.245129</td>\n",
       "    </tr>\n",
       "    <tr>\n",
       "      <th>327</th>\n",
       "      <td>6</td>\n",
       "      <td>0.299616</td>\n",
       "      <td>0.324844</td>\n",
       "      <td>3.299919</td>\n",
       "      <td>2.044040</td>\n",
       "      <td>3.634828</td>\n",
       "      <td>6.693840</td>\n",
       "      <td>-5.676224</td>\n",
       "      <td>12.000518</td>\n",
       "      <td>-11.912901</td>\n",
       "      <td>4.664406</td>\n",
       "      <td>1.197789</td>\n",
       "      <td>-2.230275</td>\n",
       "    </tr>\n",
       "    <tr>\n",
       "      <th>328</th>\n",
       "      <td>6</td>\n",
       "      <td>3.214254</td>\n",
       "      <td>-3.135152</td>\n",
       "      <td>1.122691</td>\n",
       "      <td>4.712444</td>\n",
       "      <td>5.926518</td>\n",
       "      <td>6.915566</td>\n",
       "      <td>-5.799727</td>\n",
       "      <td>10.858532</td>\n",
       "      <td>-11.659845</td>\n",
       "      <td>10.605734</td>\n",
       "      <td>0.349482</td>\n",
       "      <td>-5.983281</td>\n",
       "    </tr>\n",
       "  </tbody>\n",
       "</table>\n",
       "<p>329 rows × 13 columns</p>\n",
       "</div>"
      ],
      "text/plain": [
       "     language         X1        X2        X3         X4        X5         X6  \\\n",
       "0           2   7.071476 -6.512900  7.650800  11.150783 -7.657312  12.484021   \n",
       "1           2  10.982967 -5.157445  3.952060  11.529381 -7.638047  12.136098   \n",
       "2           2   7.827108 -5.477472  7.816257   9.187592 -7.172511  11.715299   \n",
       "3           2   6.744083 -5.688920  6.546789   9.000183 -6.924963  11.710766   \n",
       "4           2   5.836843 -5.326557  7.472265   8.847440 -6.773244  12.677218   \n",
       "..        ...        ...       ...       ...        ...       ...        ...   \n",
       "324         6  -0.525273 -3.868338  3.548304   1.496249  3.490753   5.849887   \n",
       "325         6  -2.094001 -1.073113  1.217397  -0.550790  2.666547   7.449942   \n",
       "326         6   2.116909 -4.441482  5.350392   3.675396  2.715876   3.682670   \n",
       "327         6   0.299616  0.324844  3.299919   2.044040  3.634828   6.693840   \n",
       "328         6   3.214254 -3.135152  1.122691   4.712444  5.926518   6.915566   \n",
       "\n",
       "            X7         X8         X9        X10       X11       X12  \n",
       "0   -11.709772   3.426596   1.462715  -2.812753  0.866538 -5.244274  \n",
       "1   -12.036247   3.491943   0.595441  -4.508811  2.332147 -6.221857  \n",
       "2   -13.847214   4.574075  -1.687559  -7.204041 -0.011847 -6.463144  \n",
       "3   -12.374388   6.169879  -0.544747  -6.019237  1.358559 -6.356441  \n",
       "4   -12.315061   4.416344   0.193500  -3.644812  2.151239 -6.816310  \n",
       "..         ...        ...        ...        ...       ...       ...  \n",
       "324  -7.747027   9.738836 -11.754543   7.129909  0.209947 -1.946914  \n",
       "325  -6.418064  10.907098 -11.134323   6.728373  2.461446 -0.026113  \n",
       "326  -4.500850  11.798565 -12.031005   7.566142 -0.606010 -2.245129  \n",
       "327  -5.676224  12.000518 -11.912901   4.664406  1.197789 -2.230275  \n",
       "328  -5.799727  10.858532 -11.659845  10.605734  0.349482 -5.983281  \n",
       "\n",
       "[329 rows x 13 columns]"
      ]
     },
     "execution_count": 110,
     "metadata": {},
     "output_type": "execute_result"
    }
   ],
   "source": [
    "df"
   ]
  },
  {
   "cell_type": "code",
   "execution_count": 111,
   "metadata": {},
   "outputs": [
    {
     "name": "stdout",
     "output_type": "stream",
     "text": [
      "language\n",
      "1     45\n",
      "2     29\n",
      "3     30\n",
      "4     30\n",
      "5     30\n",
      "6    165\n",
      "dtype: int64\n"
     ]
    }
   ],
   "source": [
    "print(df.groupby('language').size())"
   ]
  },
  {
   "cell_type": "code",
   "execution_count": 112,
   "metadata": {},
   "outputs": [],
   "source": [
    "import numpy as np\n",
    "dfnp = df.to_numpy()\n",
    "x=dfnp[:,1:] \n",
    "y=dfnp[:,0] "
   ]
  },
  {
   "cell_type": "code",
   "execution_count": 113,
   "metadata": {},
   "outputs": [
    {
     "name": "stdout",
     "output_type": "stream",
     "text": [
      "[[  7.07147563  -6.51289966   7.6507998   11.1507832   -7.65731234\n",
      "   12.48402056 -11.70977189   3.42659639   1.4627152   -2.81275273\n",
      "    0.86653775  -5.24427382]\n",
      " [ 10.98296717  -5.15744505   3.95206022  11.52938113  -7.63804669\n",
      "   12.13609782 -12.03624732   3.49194279   0.59544075  -4.50881099\n",
      "    2.33214701  -6.22185741]\n",
      " [  7.82710836  -5.47747194   7.81625728   9.18759183  -7.17251059\n",
      "   11.71529939 -13.84721376   4.57407483  -1.68755929  -7.20404059\n",
      "   -0.0118469   -6.46314403]\n",
      " [  6.74408266  -5.68892029   6.54678866   9.00018318  -6.9249634\n",
      "   11.71076571 -12.37438845   6.16987886  -0.54474665  -6.019237\n",
      "    1.35855949  -6.35644131]\n",
      " [  5.83684251  -5.32655675   7.47226471   8.8474398   -6.77324444\n",
      "   12.6772177  -12.3150607    4.41634401   0.19349986  -3.6448119\n",
      "    2.15123862  -6.81630977]\n",
      " [  6.26708878  -4.22773803   7.2277408   10.06941813  -6.95387058\n",
      "    9.38477051 -15.34153811   6.71853322  -0.45095156  -7.17758524\n",
      "    2.53871289  -3.55053617]\n",
      " [ 10.42139096  -4.26105286   7.47247218   9.17296126  -7.41908343\n",
      "   11.38877177 -14.50895864   6.5570931    0.01411027  -8.55991016\n",
      "    2.59641456  -4.76350834]\n",
      " [  8.78729307  -5.52466662   8.75221532  10.00128614  -8.81064703\n",
      "   11.89161903 -13.26549055   6.96857835   0.90308461  -5.96950802\n",
      "    1.76050712  -6.10170631]\n",
      " [  6.75466873  -4.62156868  10.17262463  14.31193773  -7.48551223\n",
      "   10.12609919 -12.33540282   5.02238012  -0.45454682  -9.48712867\n",
      "    1.31320337  -3.97176185]\n",
      " [  9.80357677  -4.48560517   9.09275348  12.23694006  -9.27652351\n",
      "    9.97229624 -14.0033464    6.09932944  -0.42089171  -9.93510576\n",
      "    2.5568507   -5.88719697]]\n",
      "y = [2. 2. 2. 2. 2. 2. 2. 2. 2. 2.]\n"
     ]
    }
   ],
   "source": [
    "\n",
    "print(x[:10])\n",
    "print(f'y = {y[:10]}')"
   ]
  },
  {
   "cell_type": "code",
   "execution_count": 114,
   "metadata": {},
   "outputs": [
    {
     "data": {
      "text/plain": [
       "Counter({2.0: 29, 3.0: 30, 4.0: 30, 5.0: 30, 1.0: 45, 6.0: 165})"
      ]
     },
     "execution_count": 114,
     "metadata": {},
     "output_type": "execute_result"
    }
   ],
   "source": [
    "import collections\n",
    "collections.Counter(y)"
   ]
  },
  {
   "cell_type": "code",
   "execution_count": 115,
   "metadata": {},
   "outputs": [],
   "source": [
    "from sklearn.model_selection import train_test_split # suddivide le osservazioni nei due insiemi\n",
    "\n",
    "X_train, X_test, y_train, y_test = train_test_split(x, y, \n",
    "                                                    test_size = 0.30, # by default is 75%-25%\n",
    "                                                    # shuffle is set True by default,\n",
    "                                                    stratify = y, # per mantenere le proporzioni che ci sono nei dati di partenza\n",
    "                                                    random_state = 123) # fix random seed for replicability"
   ]
  },
  {
   "cell_type": "code",
   "execution_count": 116,
   "metadata": {},
   "outputs": [
    {
     "data": {
      "text/plain": [
       "((230, 12), (230,), (99, 12), (99,))"
      ]
     },
     "execution_count": 116,
     "metadata": {},
     "output_type": "execute_result"
    }
   ],
   "source": [
    "X_train.shape,y_train.shape,X_test.shape,y_test.shape "
   ]
  },
  {
   "cell_type": "code",
   "execution_count": 117,
   "metadata": {},
   "outputs": [
    {
     "name": "stdout",
     "output_type": "stream",
     "text": [
      "[[  2.45277939  -4.40598137   0.49264579   9.09233685  -5.57127307\n",
      "   11.48301653  -9.81840515   3.97704666   0.39921614  -5.28836628\n",
      "    1.97661518  -3.87346508]\n",
      " [  3.6791297   -5.75966462   0.88424066   4.59362653 -10.78831051\n",
      "    7.38193609  -9.56668771   2.8304014   -1.53212388  -0.55098686\n",
      "    4.4210483   -3.55456778]\n",
      " [ -3.99585223   0.94418363  -0.40283854   9.50262906  -2.46296659\n",
      "   10.73443373  -9.78883748   6.22816398  -0.20059343   0.7072086\n",
      "    3.51309628  -2.7937696 ]\n",
      " [ 12.7074806   -8.66948012   2.94120893  13.44592355  -8.70687559\n",
      "   11.07162313  -9.3299326    0.6164758    1.20804     -4.44525661\n",
      "    0.15361678  -5.38038539]\n",
      " [  6.25466565  -1.35354474  -0.53674036   9.00180319  -7.61691286\n",
      "   12.53347043  -8.14233922   3.41422615   0.16646045  -4.86784806\n",
      "    2.83295588  -5.00007009]\n",
      " [ 13.46570851  -9.0413815    0.56166832   9.67392949  -9.14877447\n",
      "   10.43245696  -6.81089966   4.22447989   0.58489455  -2.97791812\n",
      "    6.73831407  -2.50852225]\n",
      " [ -2.09400127  -1.07311293   1.21739747  -0.55079007   2.66654717\n",
      "    7.44994176  -6.4180643   10.90709782 -11.13432263   6.72837313\n",
      "    2.46144588  -0.02611343]\n",
      " [  2.73137368  -0.5693998    2.24883008   5.48272192  -6.36724404\n",
      "    9.24032681 -13.83278006   6.29085426   0.72102141  -3.32185418\n",
      "    2.55431809  -9.16216274]\n",
      " [  2.36883337  -7.26676879   4.88185772   6.97136079 -10.03185232\n",
      "    8.64997322 -12.08551274   5.67991045  -0.53733994  -2.77727392\n",
      "    2.35363047  -3.82037893]\n",
      " [ 14.79696134  -4.55037151   1.19371171  11.27737214 -11.59730507\n",
      "   11.49654396  -8.32699682   4.80778628   3.43161964  -9.10093454\n",
      "    5.73849117   1.07962171]]\n",
      "y_train = [1. 3. 5. 6. 1. 6. 6. 4. 3. 2.]\n"
     ]
    }
   ],
   "source": [
    "np.set_printoptions(suppress=True)\n",
    "print(X_train[:10])\n",
    "print(f'y_train = {y_train[:10]}')"
   ]
  },
  {
   "cell_type": "code",
   "execution_count": 142,
   "metadata": {},
   "outputs": [
    {
     "name": "stdout",
     "output_type": "stream",
     "text": [
      "dati predetti dal metodo =                [5. 3. 6. 6. 1. 6. 3. 6. 1. 6.]\n",
      "dati reali presenti nel dataset di test = [5. 3. 6. 6. 1. 6. 3. 6. 1. 6.]\n"
     ]
    }
   ],
   "source": [
    "from sklearn.neighbors import KNeighborsClassifier\n",
    "\n",
    "#neigh = KNeighborsClassifier(n_neighbors=8) #81%\n",
    "neigh = KNeighborsClassifier(n_neighbors=5) #86%\n",
    "#neigh = KNeighborsClassifier(n_neighbors=10) #82%\n",
    "#neigh = KNeighborsClassifier(n_neighbors=3) #80%\n",
    "neigh.fit(X_train, y_train)\n",
    "predict = neigh.predict(X_test)\n",
    "\n",
    "print(f'dati predetti dal metodo =                {predict[:10]}') # dati predetti dal metodo\n",
    "print(f'dati reali presenti nel dataset di test = {y_test[:10]}') # dati effettivi presenti nel test set"
   ]
  },
  {
   "cell_type": "code",
   "execution_count": 119,
   "metadata": {},
   "outputs": [
    {
     "data": {
      "image/png": "[encoded data removed]",
      "text/plain": [
       "<Figure size 432x288 with 1 Axes>"
      ]
     },
     "metadata": {
      "needs_background": "light"
     },
     "output_type": "display_data"
    }
   ],
   "source": [
    "from mlxtend.plotting import plot_confusion_matrix\n",
    "from matplotlib import pyplot as plt\n",
    "from sklearn.metrics import confusion_matrix, classification_report\n",
    "\n",
    "plot_confusion_matrix(confusion_matrix(y_test, predict), cmap=plt.cm.Dark2)\n",
    "plt.show() "
   ]
  },
  {
   "cell_type": "code",
   "execution_count": 143,
   "metadata": {},
   "outputs": [
    {
     "name": "stdout",
     "output_type": "stream",
     "text": [
      "              precision    recall  f1-score   support\n",
      "\n",
      "         1.0       0.73      0.85      0.79        13\n",
      "         2.0       0.82      1.00      0.90         9\n",
      "         3.0       1.00      0.89      0.94         9\n",
      "         4.0       0.80      0.44      0.57         9\n",
      "         5.0       0.70      0.78      0.74         9\n",
      "         6.0       0.92      0.92      0.92        50\n",
      "\n",
      "    accuracy                           0.86        99\n",
      "   macro avg       0.83      0.81      0.81        99\n",
      "weighted avg       0.86      0.86      0.85        99\n",
      "\n"
     ]
    }
   ],
   "source": [
    "print(classification_report(y_test, predict))"
   ]
  },
  {
   "cell_type": "code",
   "execution_count": null,
   "metadata": {},
   "outputs": [],
   "source": [
    "#Il migliore è k = 5 perchè ha il 86% di accuratezza quindi più preciso."
   ]
  },
  {
   "cell_type": "code",
   "execution_count": 137,
   "metadata": {},
   "outputs": [
    {
     "name": "stdout",
     "output_type": "stream",
     "text": [
      "dati predetti dal metodo =                [6. 6. 6. 6. 6. 6. 6. 6. 4. 6.]\n",
      "dati reali presenti nel dataset di test = [5. 3. 6. 6. 1. 6. 3. 6. 1. 6.]\n"
     ]
    }
   ],
   "source": [
    "from sklearn import tree\n",
    "#51%\n",
    "tree_clf = tree.DecisionTreeClassifier(criterion=\"gini\", # criteri per stabilire come splittare\n",
    "                                       max_depth=8, # profondità dell'albero per evitare l'overfitting\n",
    "                                       min_samples_split=25, # dimensione minima del sottogruppo a cui fermarsi (no more split)\n",
    "                                       max_leaf_nodes=10, # numero dei nodi foglia\n",
    "                                       min_samples_leaf=10 # numero di campioni per essere una foglia\n",
    "                                      )\n",
    "tree_clf.fit(X_train,y_train)\n",
    "predict = tree_clf.predict(X_test)\n",
    "print(f'dati predetti dal metodo =                {predict[:10]}') # dati predetti dal metodo\n",
    "print(f'dati reali presenti nel dataset di test = {y_test[:10]}') # dati effettivi presenti nel test set"
   ]
  },
  {
   "cell_type": "code",
   "execution_count": 128,
   "metadata": {},
   "outputs": [
    {
     "name": "stdout",
     "output_type": "stream",
     "text": [
      "dati predetti dal metodo =                [6. 3. 6. 6. 6. 6. 6. 6. 4. 6.]\n",
      "dati reali presenti nel dataset di test = [5. 3. 6. 6. 1. 6. 3. 6. 1. 6.]\n"
     ]
    }
   ],
   "source": [
    "from sklearn import tree\n",
    "#49%\n",
    "tree_clf = tree.DecisionTreeClassifier(criterion=\"gini\", # criteri per stabilire come splittare\n",
    "                                       max_depth=4, # profondità dell'albero per evitare l'overfitting\n",
    "                                       min_samples_split=30, # dimensione minima del sottogruppo a cui fermarsi (no more split)\n",
    "                                       max_leaf_nodes=6, # numero dei nodi foglia\n",
    "                                       min_samples_leaf=4 # numero di campioni per essere una foglia\n",
    "                                      )\n",
    "tree_clf.fit(X_train,y_train)\n",
    "predict = tree_clf.predict(X_test)\n",
    "print(f'dati predetti dal metodo =                {predict[:10]}') # dati predetti dal metodo\n",
    "print(f'dati reali presenti nel dataset di test = {y_test[:10]}') # dati effettivi presenti nel test set"
   ]
  },
  {
   "cell_type": "code",
   "execution_count": 133,
   "metadata": {},
   "outputs": [
    {
     "name": "stdout",
     "output_type": "stream",
     "text": [
      "dati predetti dal metodo =                [1. 6. 6. 6. 6. 6. 6. 6. 4. 6.]\n",
      "dati reali presenti nel dataset di test = [5. 3. 6. 6. 1. 6. 3. 6. 1. 6.]\n"
     ]
    }
   ],
   "source": [
    "from sklearn import tree\n",
    "#49%\n",
    "tree_clf = tree.DecisionTreeClassifier(criterion=\"gini\", # criteri per stabilire come splittare\n",
    "                                       max_depth=15, # profondità dell'albero per evitare l'overfitting\n",
    "                                       min_samples_split=40, # dimensione minima del sottogruppo a cui fermarsi (no more split)\n",
    "                                       max_leaf_nodes=10, # numero dei nodi foglia\n",
    "                                       min_samples_leaf=10 # numero di campioni per essere una foglia\n",
    "                                      )\n",
    "tree_clf.fit(X_train,y_train)\n",
    "predict = tree_clf.predict(X_test)\n",
    "print(f'dati predetti dal metodo =                {predict[:10]}') # dati predetti dal metodo\n",
    "print(f'dati reali presenti nel dataset di test = {y_test[:10]}') # dati effettivi presenti nel test set"
   ]
  },
  {
   "cell_type": "code",
   "execution_count": 140,
   "metadata": {},
   "outputs": [
    {
     "name": "stdout",
     "output_type": "stream",
     "text": [
      "dati predetti dal metodo =                [6. 6. 3. 6. 1. 6. 6. 6. 4. 6.]\n",
      "dati reali presenti nel dataset di test = [5. 3. 6. 6. 1. 6. 3. 6. 1. 6.]\n"
     ]
    }
   ],
   "source": [
    "from sklearn import tree\n",
    "#59%\n",
    "tree_clf = tree.DecisionTreeClassifier(criterion=\"gini\", # criteri per stabilire come splittare\n",
    "                                       max_depth=30, # profondità dell'albero per evitare l'overfitting\n",
    "                                       min_samples_split=15, # dimensione minima del sottogruppo a cui fermarsi (no more split)\n",
    "                                       max_leaf_nodes=20, # numero dei nodi foglia\n",
    "                                       min_samples_leaf=20 # numero di campioni per essere una foglia\n",
    "                                      )\n",
    "tree_clf.fit(X_train,y_train)\n",
    "predict = tree_clf.predict(X_test)\n",
    "print(f'dati predetti dal metodo =                {predict[:10]}') # dati predetti dal metodo\n",
    "print(f'dati reali presenti nel dataset di test = {y_test[:10]}') # dati effettivi presenti nel test set"
   ]
  },
  {
   "cell_type": "code",
   "execution_count": 98,
   "metadata": {},
   "outputs": [
    {
     "data": {
      "image/png": "[encoded data removed]",
      "text/plain": [
       "<Figure size 432x288 with 1 Axes>"
      ]
     },
     "metadata": {
      "needs_background": "light"
     },
     "output_type": "display_data"
    }
   ],
   "source": [
    "from mlxtend.plotting import plot_confusion_matrix\n",
    "from matplotlib import pyplot as plt\n",
    "from sklearn.metrics import confusion_matrix, classification_report\n",
    "\n",
    "plot_confusion_matrix(confusion_matrix(y_test, predict))\n",
    "plt.show()"
   ]
  },
  {
   "cell_type": "code",
   "execution_count": 138,
   "metadata": {},
   "outputs": [
    {
     "name": "stdout",
     "output_type": "stream",
     "text": [
      "              precision    recall  f1-score   support\n",
      "\n",
      "         1.0       0.40      0.15      0.22        13\n",
      "         2.0       0.33      0.33      0.33         9\n",
      "         3.0       0.50      0.22      0.31         9\n",
      "         4.0       0.11      0.11      0.11         9\n",
      "         5.0       0.00      0.00      0.00         9\n",
      "         6.0       0.62      0.86      0.72        50\n",
      "\n",
      "    accuracy                           0.52        99\n",
      "   macro avg       0.33      0.28      0.28        99\n",
      "weighted avg       0.45      0.52      0.46        99\n",
      "\n"
     ]
    }
   ],
   "source": [
    "print(classification_report(y_test, predict))"
   ]
  },
  {
   "cell_type": "code",
   "execution_count": 96,
   "metadata": {},
   "outputs": [
    {
     "data": {
      "image/svg+xml": "<?xml version=\"1.0\" encoding=\"UTF-8\" standalone=\"no\"?>\n<!DOCTYPE svg PUBLIC \"-//W3C//DTD SVG 1.1//EN\"\n \"http://www.w3.org/Graphics/SVG/1.1/DTD/svg11.dtd\">\n<!-- Generated by graphviz version 2.47.0 (0)\n -->\n<!-- Title: Tree Pages: 1 -->\n<svg width=\"858pt\" height=\"552pt\"\n viewBox=\"0.00 0.00 858.00 552.00\" xmlns=\"http://www.w3.org/2000/svg\" xmlns:xlink=\"http://www.w3.org/1999/xlink\">\n<g id=\"graph0\" class=\"graph\" transform=\"scale(1 1) rotate(0) translate(4 548)\">\n<title>Tree</title>\n<polygon fill=\"white\" stroke=\"transparent\" points=\"-4,4 -4,-548 854,-548 854,4 -4,4\"/>\n<!-- 0 -->\n<g id=\"node1\" class=\"node\">\n<title>0</title>\n<path fill=\"#e99558\" stroke=\"black\" d=\"M594.5,-544C594.5,-544 492.5,-544 492.5,-544 486.5,-544 480.5,-538 480.5,-532 480.5,-532 480.5,-473 480.5,-473 480.5,-467 486.5,-461 492.5,-461 492.5,-461 594.5,-461 594.5,-461 600.5,-461 606.5,-467 606.5,-473 606.5,-473 606.5,-532 606.5,-532 606.5,-538 600.5,-544 594.5,-544\"/>\n<text text-anchor=\"start\" x=\"488.5\" y=\"-528.8\" font-family=\"Helvetica,sans-Serif\" font-size=\"14.00\">language ≤ 5.364</text>\n<text text-anchor=\"start\" x=\"506\" y=\"-513.8\" font-family=\"Helvetica,sans-Serif\" font-size=\"14.00\">gini = 0.233</text>\n<text text-anchor=\"start\" x=\"496\" y=\"-498.8\" font-family=\"Helvetica,sans-Serif\" font-size=\"14.00\">samples = 230</text>\n<text text-anchor=\"start\" x=\"490.5\" y=\"-483.8\" font-family=\"Helvetica,sans-Serif\" font-size=\"14.00\">value = [199, 31]</text>\n<text text-anchor=\"start\" x=\"514.5\" y=\"-468.8\" font-family=\"Helvetica,sans-Serif\" font-size=\"14.00\">class = 1</text>\n</g>\n<!-- 1 -->\n<g id=\"node2\" class=\"node\">\n<title>1</title>\n<path fill=\"#eda978\" stroke=\"black\" d=\"M519,-425C519,-425 430,-425 430,-425 424,-425 418,-419 418,-413 418,-413 418,-354 418,-354 418,-348 424,-342 430,-342 430,-342 519,-342 519,-342 525,-342 531,-348 531,-354 531,-354 531,-413 531,-413 531,-419 525,-425 519,-425\"/>\n<text text-anchor=\"start\" x=\"439.5\" y=\"-409.8\" font-family=\"Helvetica,sans-Serif\" font-size=\"14.00\">X3 ≤ 8.803</text>\n<text text-anchor=\"start\" x=\"437\" y=\"-394.8\" font-family=\"Helvetica,sans-Serif\" font-size=\"14.00\">gini = 0.367</text>\n<text text-anchor=\"start\" x=\"427\" y=\"-379.8\" font-family=\"Helvetica,sans-Serif\" font-size=\"14.00\">samples = 120</text>\n<text text-anchor=\"start\" x=\"426\" y=\"-364.8\" font-family=\"Helvetica,sans-Serif\" font-size=\"14.00\">value = [91, 29]</text>\n<text text-anchor=\"start\" x=\"445.5\" y=\"-349.8\" font-family=\"Helvetica,sans-Serif\" font-size=\"14.00\">class = 1</text>\n</g>\n<!-- 0&#45;&gt;1 -->\n<g id=\"edge1\" class=\"edge\">\n<title>0&#45;&gt;1</title>\n<path fill=\"none\" stroke=\"black\" d=\"M519.56,-460.91C514.42,-452.2 508.94,-442.9 503.63,-433.89\"/>\n<polygon fill=\"black\" stroke=\"black\" points=\"506.49,-431.86 498.4,-425.02 500.46,-435.41 506.49,-431.86\"/>\n<text text-anchor=\"middle\" x=\"492.15\" y=\"-445.53\" font-family=\"Helvetica,sans-Serif\" font-size=\"14.00\">True</text>\n</g>\n<!-- 2 -->\n<g id=\"node13\" class=\"node\">\n<title>2</title>\n<path fill=\"#e5833d\" stroke=\"black\" d=\"M708,-425C708,-425 619,-425 619,-425 613,-425 607,-419 607,-413 607,-413 607,-354 607,-354 607,-348 613,-342 619,-342 619,-342 708,-342 708,-342 714,-342 720,-348 720,-354 720,-354 720,-413 720,-413 720,-419 714,-425 708,-425\"/>\n<text text-anchor=\"start\" x=\"626\" y=\"-409.8\" font-family=\"Helvetica,sans-Serif\" font-size=\"14.00\">X4 ≤ &#45;9.037</text>\n<text text-anchor=\"start\" x=\"626\" y=\"-394.8\" font-family=\"Helvetica,sans-Serif\" font-size=\"14.00\">gini = 0.036</text>\n<text text-anchor=\"start\" x=\"616\" y=\"-379.8\" font-family=\"Helvetica,sans-Serif\" font-size=\"14.00\">samples = 110</text>\n<text text-anchor=\"start\" x=\"615\" y=\"-364.8\" font-family=\"Helvetica,sans-Serif\" font-size=\"14.00\">value = [108, 2]</text>\n<text text-anchor=\"start\" x=\"634.5\" y=\"-349.8\" font-family=\"Helvetica,sans-Serif\" font-size=\"14.00\">class = 1</text>\n</g>\n<!-- 0&#45;&gt;2 -->\n<g id=\"edge12\" class=\"edge\">\n<title>0&#45;&gt;2</title>\n<path fill=\"none\" stroke=\"black\" d=\"M585.13,-460.91C594.63,-451.65 604.8,-441.73 614.57,-432.21\"/>\n<polygon fill=\"black\" stroke=\"black\" points=\"617.22,-434.51 621.94,-425.02 612.34,-429.5 617.22,-434.51\"/>\n<text text-anchor=\"middle\" x=\"621.62\" y=\"-446.32\" font-family=\"Helvetica,sans-Serif\" font-size=\"14.00\">False</text>\n</g>\n<!-- 3 -->\n<g id=\"node3\" class=\"node\">\n<title>3</title>\n<path fill=\"#e88f50\" stroke=\"black\" d=\"M336,-306C336,-306 255,-306 255,-306 249,-306 243,-300 243,-294 243,-294 243,-235 243,-235 243,-229 249,-223 255,-223 255,-223 336,-223 336,-223 342,-223 348,-229 348,-235 348,-235 348,-294 348,-294 348,-300 342,-306 336,-306\"/>\n<text text-anchor=\"start\" x=\"254\" y=\"-290.8\" font-family=\"Helvetica,sans-Serif\" font-size=\"14.00\">X11 ≤ &#45;4.842</text>\n<text text-anchor=\"start\" x=\"258\" y=\"-275.8\" font-family=\"Helvetica,sans-Serif\" font-size=\"14.00\">gini = 0.184</text>\n<text text-anchor=\"start\" x=\"252\" y=\"-260.8\" font-family=\"Helvetica,sans-Serif\" font-size=\"14.00\">samples = 88</text>\n<text text-anchor=\"start\" x=\"251\" y=\"-245.8\" font-family=\"Helvetica,sans-Serif\" font-size=\"14.00\">value = [79, 9]</text>\n<text text-anchor=\"start\" x=\"266.5\" y=\"-230.8\" font-family=\"Helvetica,sans-Serif\" font-size=\"14.00\">class = 1</text>\n</g>\n<!-- 1&#45;&gt;3 -->\n<g id=\"edge2\" class=\"edge\">\n<title>1&#45;&gt;3</title>\n<path fill=\"none\" stroke=\"black\" d=\"M417.86,-345.48C398.33,-332.71 376.36,-318.35 356.49,-305.37\"/>\n<polygon fill=\"black\" stroke=\"black\" points=\"358.4,-302.43 348.12,-299.89 354.57,-308.29 358.4,-302.43\"/>\n</g>\n<!-- 4 -->\n<g id=\"node10\" class=\"node\">\n<title>4</title>\n<path fill=\"#b0d8f5\" stroke=\"black\" d=\"M519,-306C519,-306 430,-306 430,-306 424,-306 418,-300 418,-294 418,-294 418,-235 418,-235 418,-229 424,-223 430,-223 430,-223 519,-223 519,-223 525,-223 531,-229 531,-235 531,-235 531,-294 531,-294 531,-300 525,-306 519,-306\"/>\n<text text-anchor=\"start\" x=\"435\" y=\"-290.8\" font-family=\"Helvetica,sans-Serif\" font-size=\"14.00\">X5 ≤ 10.324</text>\n<text text-anchor=\"start\" x=\"437\" y=\"-275.8\" font-family=\"Helvetica,sans-Serif\" font-size=\"14.00\">gini = 0.469</text>\n<text text-anchor=\"start\" x=\"431\" y=\"-260.8\" font-family=\"Helvetica,sans-Serif\" font-size=\"14.00\">samples = 32</text>\n<text text-anchor=\"start\" x=\"426\" y=\"-245.8\" font-family=\"Helvetica,sans-Serif\" font-size=\"14.00\">value = [12, 20]</text>\n<text text-anchor=\"start\" x=\"445.5\" y=\"-230.8\" font-family=\"Helvetica,sans-Serif\" font-size=\"14.00\">class = 2</text>\n</g>\n<!-- 1&#45;&gt;4 -->\n<g id=\"edge9\" class=\"edge\">\n<title>1&#45;&gt;4</title>\n<path fill=\"none\" stroke=\"black\" d=\"M474.5,-341.91C474.5,-333.65 474.5,-324.86 474.5,-316.3\"/>\n<polygon fill=\"black\" stroke=\"black\" points=\"478,-316.02 474.5,-306.02 471,-316.02 478,-316.02\"/>\n</g>\n<!-- 7 -->\n<g id=\"node4\" class=\"node\">\n<title>7</title>\n<path fill=\"#f0b68c\" stroke=\"black\" d=\"M213,-187C213,-187 132,-187 132,-187 126,-187 120,-181 120,-175 120,-175 120,-116 120,-116 120,-110 126,-104 132,-104 132,-104 213,-104 213,-104 219,-104 225,-110 225,-116 225,-116 225,-175 225,-175 225,-181 219,-187 213,-187\"/>\n<text text-anchor=\"start\" x=\"137.5\" y=\"-171.8\" font-family=\"Helvetica,sans-Serif\" font-size=\"14.00\">X7 ≤ 6.128</text>\n<text text-anchor=\"start\" x=\"135\" y=\"-156.8\" font-family=\"Helvetica,sans-Serif\" font-size=\"14.00\">gini = 0.417</text>\n<text text-anchor=\"start\" x=\"129\" y=\"-141.8\" font-family=\"Helvetica,sans-Serif\" font-size=\"14.00\">samples = 27</text>\n<text text-anchor=\"start\" x=\"128\" y=\"-126.8\" font-family=\"Helvetica,sans-Serif\" font-size=\"14.00\">value = [19, 8]</text>\n<text text-anchor=\"start\" x=\"143.5\" y=\"-111.8\" font-family=\"Helvetica,sans-Serif\" font-size=\"14.00\">class = 1</text>\n</g>\n<!-- 3&#45;&gt;7 -->\n<g id=\"edge3\" class=\"edge\">\n<title>3&#45;&gt;7</title>\n<path fill=\"none\" stroke=\"black\" d=\"M252.83,-222.91C243,-213.56 232.46,-203.54 222.36,-193.93\"/>\n<polygon fill=\"black\" stroke=\"black\" points=\"224.76,-191.38 215.1,-187.02 219.93,-196.45 224.76,-191.38\"/>\n</g>\n<!-- 8 -->\n<g id=\"node7\" class=\"node\">\n<title>8</title>\n<path fill=\"#e5833c\" stroke=\"black\" d=\"M336,-187C336,-187 255,-187 255,-187 249,-187 243,-181 243,-175 243,-175 243,-116 243,-116 243,-110 249,-104 255,-104 255,-104 336,-104 336,-104 342,-104 348,-110 348,-116 348,-116 348,-175 348,-175 348,-181 342,-187 336,-187\"/>\n<text text-anchor=\"start\" x=\"258\" y=\"-171.8\" font-family=\"Helvetica,sans-Serif\" font-size=\"14.00\">X9 ≤ &#45;2.984</text>\n<text text-anchor=\"start\" x=\"258\" y=\"-156.8\" font-family=\"Helvetica,sans-Serif\" font-size=\"14.00\">gini = 0.032</text>\n<text text-anchor=\"start\" x=\"252\" y=\"-141.8\" font-family=\"Helvetica,sans-Serif\" font-size=\"14.00\">samples = 61</text>\n<text text-anchor=\"start\" x=\"251\" y=\"-126.8\" font-family=\"Helvetica,sans-Serif\" font-size=\"14.00\">value = [60, 1]</text>\n<text text-anchor=\"start\" x=\"266.5\" y=\"-111.8\" font-family=\"Helvetica,sans-Serif\" font-size=\"14.00\">class = 1</text>\n</g>\n<!-- 3&#45;&gt;8 -->\n<g id=\"edge6\" class=\"edge\">\n<title>3&#45;&gt;8</title>\n<path fill=\"none\" stroke=\"black\" d=\"M295.5,-222.91C295.5,-214.65 295.5,-205.86 295.5,-197.3\"/>\n<polygon fill=\"black\" stroke=\"black\" points=\"299,-197.02 295.5,-187.02 292,-197.02 299,-197.02\"/>\n</g>\n<!-- 9 -->\n<g id=\"node5\" class=\"node\">\n<title>9</title>\n<path fill=\"#b5daf5\" stroke=\"black\" d=\"M91,-68C91,-68 12,-68 12,-68 6,-68 0,-62 0,-56 0,-56 0,-12 0,-12 0,-6 6,0 12,0 12,0 91,0 91,0 97,0 103,-6 103,-12 103,-12 103,-56 103,-56 103,-62 97,-68 91,-68\"/>\n<text text-anchor=\"start\" x=\"14\" y=\"-52.8\" font-family=\"Helvetica,sans-Serif\" font-size=\"14.00\">gini = 0.473</text>\n<text text-anchor=\"start\" x=\"8\" y=\"-37.8\" font-family=\"Helvetica,sans-Serif\" font-size=\"14.00\">samples = 13</text>\n<text text-anchor=\"start\" x=\"11\" y=\"-22.8\" font-family=\"Helvetica,sans-Serif\" font-size=\"14.00\">value = [5, 8]</text>\n<text text-anchor=\"start\" x=\"22.5\" y=\"-7.8\" font-family=\"Helvetica,sans-Serif\" font-size=\"14.00\">class = 2</text>\n</g>\n<!-- 7&#45;&gt;9 -->\n<g id=\"edge4\" class=\"edge\">\n<title>7&#45;&gt;9</title>\n<path fill=\"none\" stroke=\"black\" d=\"M127.44,-103.73C117.16,-94.42 106.25,-84.54 95.99,-75.26\"/>\n<polygon fill=\"black\" stroke=\"black\" points=\"98.06,-72.41 88.3,-68.3 93.36,-77.6 98.06,-72.41\"/>\n</g>\n<!-- 10 -->\n<g id=\"node6\" class=\"node\">\n<title>10</title>\n<path fill=\"#e58139\" stroke=\"black\" d=\"M214,-68C214,-68 133,-68 133,-68 127,-68 121,-62 121,-56 121,-56 121,-12 121,-12 121,-6 127,0 133,0 133,0 214,0 214,0 220,0 226,-6 226,-12 226,-12 226,-56 226,-56 226,-62 220,-68 214,-68\"/>\n<text text-anchor=\"start\" x=\"144.5\" y=\"-52.8\" font-family=\"Helvetica,sans-Serif\" font-size=\"14.00\">gini = 0.0</text>\n<text text-anchor=\"start\" x=\"130\" y=\"-37.8\" font-family=\"Helvetica,sans-Serif\" font-size=\"14.00\">samples = 14</text>\n<text text-anchor=\"start\" x=\"129\" y=\"-22.8\" font-family=\"Helvetica,sans-Serif\" font-size=\"14.00\">value = [14, 0]</text>\n<text text-anchor=\"start\" x=\"144.5\" y=\"-7.8\" font-family=\"Helvetica,sans-Serif\" font-size=\"14.00\">class = 1</text>\n</g>\n<!-- 7&#45;&gt;10 -->\n<g id=\"edge5\" class=\"edge\">\n<title>7&#45;&gt;10</title>\n<path fill=\"none\" stroke=\"black\" d=\"M172.87,-103.73C172.95,-95.52 173.03,-86.86 173.1,-78.56\"/>\n<polygon fill=\"black\" stroke=\"black\" points=\"176.6,-78.33 173.2,-68.3 169.6,-78.27 176.6,-78.33\"/>\n</g>\n<!-- 15 -->\n<g id=\"node8\" class=\"node\">\n<title>15</title>\n<path fill=\"#e88f4f\" stroke=\"black\" d=\"M335,-68C335,-68 256,-68 256,-68 250,-68 244,-62 244,-56 244,-56 244,-12 244,-12 244,-6 250,0 256,0 256,0 335,0 335,0 341,0 347,-6 347,-12 347,-12 347,-56 347,-56 347,-62 341,-68 335,-68\"/>\n<text text-anchor=\"start\" x=\"262\" y=\"-52.8\" font-family=\"Helvetica,sans-Serif\" font-size=\"14.00\">gini = 0.18</text>\n<text text-anchor=\"start\" x=\"252\" y=\"-37.8\" font-family=\"Helvetica,sans-Serif\" font-size=\"14.00\">samples = 10</text>\n<text text-anchor=\"start\" x=\"255\" y=\"-22.8\" font-family=\"Helvetica,sans-Serif\" font-size=\"14.00\">value = [9, 1]</text>\n<text text-anchor=\"start\" x=\"266.5\" y=\"-7.8\" font-family=\"Helvetica,sans-Serif\" font-size=\"14.00\">class = 1</text>\n</g>\n<!-- 8&#45;&gt;15 -->\n<g id=\"edge7\" class=\"edge\">\n<title>8&#45;&gt;15</title>\n<path fill=\"none\" stroke=\"black\" d=\"M295.5,-103.73C295.5,-95.52 295.5,-86.86 295.5,-78.56\"/>\n<polygon fill=\"black\" stroke=\"black\" points=\"299,-78.3 295.5,-68.3 292,-78.3 299,-78.3\"/>\n</g>\n<!-- 16 -->\n<g id=\"node9\" class=\"node\">\n<title>16</title>\n<path fill=\"#e58139\" stroke=\"black\" d=\"M458,-68C458,-68 377,-68 377,-68 371,-68 365,-62 365,-56 365,-56 365,-12 365,-12 365,-6 371,0 377,0 377,0 458,0 458,0 464,0 470,-6 470,-12 470,-12 470,-56 470,-56 470,-62 464,-68 458,-68\"/>\n<text text-anchor=\"start\" x=\"388.5\" y=\"-52.8\" font-family=\"Helvetica,sans-Serif\" font-size=\"14.00\">gini = 0.0</text>\n<text text-anchor=\"start\" x=\"374\" y=\"-37.8\" font-family=\"Helvetica,sans-Serif\" font-size=\"14.00\">samples = 51</text>\n<text text-anchor=\"start\" x=\"373\" y=\"-22.8\" font-family=\"Helvetica,sans-Serif\" font-size=\"14.00\">value = [51, 0]</text>\n<text text-anchor=\"start\" x=\"388.5\" y=\"-7.8\" font-family=\"Helvetica,sans-Serif\" font-size=\"14.00\">class = 1</text>\n</g>\n<!-- 8&#45;&gt;16 -->\n<g id=\"edge8\" class=\"edge\">\n<title>8&#45;&gt;16</title>\n<path fill=\"none\" stroke=\"black\" d=\"M340.93,-103.73C351.4,-94.33 362.52,-84.35 372.95,-74.99\"/>\n<polygon fill=\"black\" stroke=\"black\" points=\"375.29,-77.58 380.4,-68.3 370.62,-72.37 375.29,-77.58\"/>\n</g>\n<!-- 5 -->\n<g id=\"node11\" class=\"node\">\n<title>5</title>\n<path fill=\"#55abe9\" stroke=\"black\" d=\"M459,-179.5C459,-179.5 378,-179.5 378,-179.5 372,-179.5 366,-173.5 366,-167.5 366,-167.5 366,-123.5 366,-123.5 366,-117.5 372,-111.5 378,-111.5 378,-111.5 459,-111.5 459,-111.5 465,-111.5 471,-117.5 471,-123.5 471,-123.5 471,-167.5 471,-167.5 471,-173.5 465,-179.5 459,-179.5\"/>\n<text text-anchor=\"start\" x=\"381\" y=\"-164.3\" font-family=\"Helvetica,sans-Serif\" font-size=\"14.00\">gini = 0.219</text>\n<text text-anchor=\"start\" x=\"375\" y=\"-149.3\" font-family=\"Helvetica,sans-Serif\" font-size=\"14.00\">samples = 16</text>\n<text text-anchor=\"start\" x=\"374\" y=\"-134.3\" font-family=\"Helvetica,sans-Serif\" font-size=\"14.00\">value = [2, 14]</text>\n<text text-anchor=\"start\" x=\"389.5\" y=\"-119.3\" font-family=\"Helvetica,sans-Serif\" font-size=\"14.00\">class = 2</text>\n</g>\n<!-- 4&#45;&gt;5 -->\n<g id=\"edge10\" class=\"edge\">\n<title>4&#45;&gt;5</title>\n<path fill=\"none\" stroke=\"black\" d=\"M455.07,-222.91C449.79,-211.87 444.06,-199.9 438.73,-188.77\"/>\n<polygon fill=\"black\" stroke=\"black\" points=\"441.85,-187.18 434.37,-179.67 435.54,-190.2 441.85,-187.18\"/>\n</g>\n<!-- 6 -->\n<g id=\"node12\" class=\"node\">\n<title>6</title>\n<path fill=\"#f5cdb0\" stroke=\"black\" d=\"M582,-179.5C582,-179.5 501,-179.5 501,-179.5 495,-179.5 489,-173.5 489,-167.5 489,-167.5 489,-123.5 489,-123.5 489,-117.5 495,-111.5 501,-111.5 501,-111.5 582,-111.5 582,-111.5 588,-111.5 594,-117.5 594,-123.5 594,-123.5 594,-167.5 594,-167.5 594,-173.5 588,-179.5 582,-179.5\"/>\n<text text-anchor=\"start\" x=\"504\" y=\"-164.3\" font-family=\"Helvetica,sans-Serif\" font-size=\"14.00\">gini = 0.469</text>\n<text text-anchor=\"start\" x=\"498\" y=\"-149.3\" font-family=\"Helvetica,sans-Serif\" font-size=\"14.00\">samples = 16</text>\n<text text-anchor=\"start\" x=\"497\" y=\"-134.3\" font-family=\"Helvetica,sans-Serif\" font-size=\"14.00\">value = [10, 6]</text>\n<text text-anchor=\"start\" x=\"512.5\" y=\"-119.3\" font-family=\"Helvetica,sans-Serif\" font-size=\"14.00\">class = 1</text>\n</g>\n<!-- 4&#45;&gt;6 -->\n<g id=\"edge11\" class=\"edge\">\n<title>4&#45;&gt;6</title>\n<path fill=\"none\" stroke=\"black\" d=\"M497.75,-222.91C504.13,-211.76 511.06,-199.66 517.48,-188.44\"/>\n<polygon fill=\"black\" stroke=\"black\" points=\"520.57,-190.08 522.51,-179.67 514.5,-186.61 520.57,-190.08\"/>\n</g>\n<!-- 11 -->\n<g id=\"node14\" class=\"node\">\n<title>11</title>\n<path fill=\"#e78b49\" stroke=\"black\" d=\"M714.5,-306C714.5,-306 612.5,-306 612.5,-306 606.5,-306 600.5,-300 600.5,-294 600.5,-294 600.5,-235 600.5,-235 600.5,-229 606.5,-223 612.5,-223 612.5,-223 714.5,-223 714.5,-223 720.5,-223 726.5,-229 726.5,-235 726.5,-235 726.5,-294 726.5,-294 726.5,-300 720.5,-306 714.5,-306\"/>\n<text text-anchor=\"start\" x=\"608.5\" y=\"-290.8\" font-family=\"Helvetica,sans-Serif\" font-size=\"14.00\">language ≤ 9.898</text>\n<text text-anchor=\"start\" x=\"626\" y=\"-275.8\" font-family=\"Helvetica,sans-Serif\" font-size=\"14.00\">gini = 0.137</text>\n<text text-anchor=\"start\" x=\"620\" y=\"-260.8\" font-family=\"Helvetica,sans-Serif\" font-size=\"14.00\">samples = 27</text>\n<text text-anchor=\"start\" x=\"619\" y=\"-245.8\" font-family=\"Helvetica,sans-Serif\" font-size=\"14.00\">value = [25, 2]</text>\n<text text-anchor=\"start\" x=\"634.5\" y=\"-230.8\" font-family=\"Helvetica,sans-Serif\" font-size=\"14.00\">class = 1</text>\n</g>\n<!-- 2&#45;&gt;11 -->\n<g id=\"edge13\" class=\"edge\">\n<title>2&#45;&gt;11</title>\n<path fill=\"none\" stroke=\"black\" d=\"M663.5,-341.91C663.5,-333.65 663.5,-324.86 663.5,-316.3\"/>\n<polygon fill=\"black\" stroke=\"black\" points=\"667,-316.02 663.5,-306.02 660,-316.02 667,-316.02\"/>\n</g>\n<!-- 12 -->\n<g id=\"node17\" class=\"node\">\n<title>12</title>\n<path fill=\"#e58139\" stroke=\"black\" d=\"M838,-298.5C838,-298.5 757,-298.5 757,-298.5 751,-298.5 745,-292.5 745,-286.5 745,-286.5 745,-242.5 745,-242.5 745,-236.5 751,-230.5 757,-230.5 757,-230.5 838,-230.5 838,-230.5 844,-230.5 850,-236.5 850,-242.5 850,-242.5 850,-286.5 850,-286.5 850,-292.5 844,-298.5 838,-298.5\"/>\n<text text-anchor=\"start\" x=\"768.5\" y=\"-283.3\" font-family=\"Helvetica,sans-Serif\" font-size=\"14.00\">gini = 0.0</text>\n<text text-anchor=\"start\" x=\"754\" y=\"-268.3\" font-family=\"Helvetica,sans-Serif\" font-size=\"14.00\">samples = 83</text>\n<text text-anchor=\"start\" x=\"753\" y=\"-253.3\" font-family=\"Helvetica,sans-Serif\" font-size=\"14.00\">value = [83, 0]</text>\n<text text-anchor=\"start\" x=\"768.5\" y=\"-238.3\" font-family=\"Helvetica,sans-Serif\" font-size=\"14.00\">class = 1</text>\n</g>\n<!-- 2&#45;&gt;12 -->\n<g id=\"edge16\" class=\"edge\">\n<title>2&#45;&gt;12</title>\n<path fill=\"none\" stroke=\"black\" d=\"M709.99,-341.91C723.51,-330.1 738.27,-317.22 751.75,-305.45\"/>\n<polygon fill=\"black\" stroke=\"black\" points=\"754.28,-307.88 759.51,-298.67 749.68,-302.61 754.28,-307.88\"/>\n</g>\n<!-- 13 -->\n<g id=\"node15\" class=\"node\">\n<title>13</title>\n<path fill=\"#eca06a\" stroke=\"black\" d=\"M703,-179.5C703,-179.5 624,-179.5 624,-179.5 618,-179.5 612,-173.5 612,-167.5 612,-167.5 612,-123.5 612,-123.5 612,-117.5 618,-111.5 624,-111.5 624,-111.5 703,-111.5 703,-111.5 709,-111.5 715,-117.5 715,-123.5 715,-123.5 715,-167.5 715,-167.5 715,-173.5 709,-179.5 703,-179.5\"/>\n<text text-anchor=\"start\" x=\"630\" y=\"-164.3\" font-family=\"Helvetica,sans-Serif\" font-size=\"14.00\">gini = 0.32</text>\n<text text-anchor=\"start\" x=\"620\" y=\"-149.3\" font-family=\"Helvetica,sans-Serif\" font-size=\"14.00\">samples = 10</text>\n<text text-anchor=\"start\" x=\"623\" y=\"-134.3\" font-family=\"Helvetica,sans-Serif\" font-size=\"14.00\">value = [8, 2]</text>\n<text text-anchor=\"start\" x=\"634.5\" y=\"-119.3\" font-family=\"Helvetica,sans-Serif\" font-size=\"14.00\">class = 1</text>\n</g>\n<!-- 11&#45;&gt;13 -->\n<g id=\"edge14\" class=\"edge\">\n<title>11&#45;&gt;13</title>\n<path fill=\"none\" stroke=\"black\" d=\"M663.5,-222.91C663.5,-212.2 663.5,-200.62 663.5,-189.78\"/>\n<polygon fill=\"black\" stroke=\"black\" points=\"667,-189.67 663.5,-179.67 660,-189.67 667,-189.67\"/>\n</g>\n<!-- 14 -->\n<g id=\"node16\" class=\"node\">\n<title>14</title>\n<path fill=\"#e58139\" stroke=\"black\" d=\"M826,-179.5C826,-179.5 745,-179.5 745,-179.5 739,-179.5 733,-173.5 733,-167.5 733,-167.5 733,-123.5 733,-123.5 733,-117.5 739,-111.5 745,-111.5 745,-111.5 826,-111.5 826,-111.5 832,-111.5 838,-117.5 838,-123.5 838,-123.5 838,-167.5 838,-167.5 838,-173.5 832,-179.5 826,-179.5\"/>\n<text text-anchor=\"start\" x=\"756.5\" y=\"-164.3\" font-family=\"Helvetica,sans-Serif\" font-size=\"14.00\">gini = 0.0</text>\n<text text-anchor=\"start\" x=\"742\" y=\"-149.3\" font-family=\"Helvetica,sans-Serif\" font-size=\"14.00\">samples = 17</text>\n<text text-anchor=\"start\" x=\"741\" y=\"-134.3\" font-family=\"Helvetica,sans-Serif\" font-size=\"14.00\">value = [17, 0]</text>\n<text text-anchor=\"start\" x=\"756.5\" y=\"-119.3\" font-family=\"Helvetica,sans-Serif\" font-size=\"14.00\">class = 1</text>\n</g>\n<!-- 11&#45;&gt;14 -->\n<g id=\"edge15\" class=\"edge\">\n<title>11&#45;&gt;14</title>\n<path fill=\"none\" stroke=\"black\" d=\"M705.83,-222.91C718.02,-211.21 731.32,-198.46 743.5,-186.78\"/>\n<polygon fill=\"black\" stroke=\"black\" points=\"746.12,-189.11 750.92,-179.67 741.28,-184.06 746.12,-189.11\"/>\n</g>\n</g>\n</svg>\n",
      "text/plain": [
       "<graphviz.sources.Source at 0x2bc7c6599d0>"
      ]
     },
     "execution_count": 96,
     "metadata": {},
     "output_type": "execute_result"
    }
   ],
   "source": [
    "# e poi in forma grafica\n",
    "#save the feature list into a vector (sono i nomi delle colonne del dataset)\n",
    "features=list(df.columns.values)\n",
    "\n",
    "import graphviz\n",
    "dot_data = tree.export_graphviz(tree_clf, out_file=None, \n",
    "                     feature_names=features[0:-1],  \n",
    "                     class_names=['1','2','3','4','5','6'],  \n",
    "                     filled=True, rounded=True,  \n",
    "                     special_characters=True)  \n",
    "graph = graphviz.Source(dot_data)\n",
    "graph.render('diabetes')\n",
    "graph"
   ]
  },
  {
   "cell_type": "code",
   "execution_count": null,
   "metadata": {},
   "outputs": [],
   "source": [
    "#criterion=\"gini\",\n",
    "#max_depth=30,\n",
    "#min_samples_split=15, \n",
    "#max_leaf_nodes=20, \n",
    "#min_samples_leaf=20 \n",
    "\n",
    "#è il migliore perchè ha 59% di accuratezza "
   ]
  },
  {
   "cell_type": "code",
   "execution_count": 144,
   "metadata": {},
   "outputs": [
    {
     "name": "stdout",
     "output_type": "stream",
     "text": [
      "              precision    recall  f1-score   support\n",
      "\n",
      "         1.0       0.73      0.85      0.79        13\n",
      "         2.0       0.82      1.00      0.90         9\n",
      "         3.0       1.00      0.89      0.94         9\n",
      "         4.0       0.80      0.44      0.57         9\n",
      "         5.0       0.70      0.78      0.74         9\n",
      "         6.0       0.92      0.92      0.92        50\n",
      "\n",
      "    accuracy                           0.86        99\n",
      "   macro avg       0.83      0.81      0.81        99\n",
      "weighted avg       0.86      0.86      0.85        99\n",
      "\n"
     ]
    }
   ],
   "source": [
    "#metodo migliore del KNN con k = 5\n",
    "print(classification_report(y_test, predict))"
   ]
  },
  {
   "cell_type": "code",
   "execution_count": 141,
   "metadata": {},
   "outputs": [
    {
     "name": "stdout",
     "output_type": "stream",
     "text": [
      "              precision    recall  f1-score   support\n",
      "\n",
      "         1.0       0.43      0.46      0.44        13\n",
      "         2.0       0.33      0.33      0.33         9\n",
      "         3.0       0.25      0.22      0.24         9\n",
      "         4.0       0.58      0.78      0.67         9\n",
      "         5.0       0.00      0.00      0.00         9\n",
      "         6.0       0.71      0.80      0.75        50\n",
      "\n",
      "    accuracy                           0.59        99\n",
      "   macro avg       0.38      0.43      0.41        99\n",
      "weighted avg       0.52      0.59      0.55        99\n",
      "\n"
     ]
    },
    {
     "name": "stderr",
     "output_type": "stream",
     "text": [
      "C:\\Users\\asiri\\anaconda3\\envs\\geo_env\\lib\\site-packages\\sklearn\\metrics\\_classification.py:1318: UndefinedMetricWarning: Precision and F-score are ill-defined and being set to 0.0 in labels with no predicted samples. Use `zero_division` parameter to control this behavior.\n",
      "  _warn_prf(average, modifier, msg_start, len(result))\n",
      "C:\\Users\\asiri\\anaconda3\\envs\\geo_env\\lib\\site-packages\\sklearn\\metrics\\_classification.py:1318: UndefinedMetricWarning: Precision and F-score are ill-defined and being set to 0.0 in labels with no predicted samples. Use `zero_division` parameter to control this behavior.\n",
      "  _warn_prf(average, modifier, msg_start, len(result))\n",
      "C:\\Users\\asiri\\anaconda3\\envs\\geo_env\\lib\\site-packages\\sklearn\\metrics\\_classification.py:1318: UndefinedMetricWarning: Precision and F-score are ill-defined and being set to 0.0 in labels with no predicted samples. Use `zero_division` parameter to control this behavior.\n",
      "  _warn_prf(average, modifier, msg_start, len(result))\n"
     ]
    }
   ],
   "source": [
    "#metodo decision tree con questi parametri\n",
    "\n",
    "#criterion=\"gini\",\n",
    "#max_depth=30,\n",
    "#min_samples_split=15, \n",
    "#max_leaf_nodes=20, \n",
    "#min_samples_leaf=20\n",
    "\n",
    "print(classification_report(y_test, predict))"
   ]
  },
  {
   "cell_type": "markdown",
   "metadata": {},
   "source": [
    "Prendondo il migliore metodo del KNN e il migliore metodo del decision tree e paragonandoli,\n",
    "l'algoritmo migliore per questo set di dati è il KNN perchè ha percentuali che superano 80% dell'accuratezza \n",
    "Il decision tree invece facendo diverse prove non riesce a superare il 59% dell'accuratezza, quindi decisamente molto\n",
    "basso. Questo\n",
    "perchè a mio parere in questa situazione dove bisogna sapere la provenienza di una persona è molto ultile \n",
    "usare l'algoritmo che usa gli elementi più vicini perchè ogni stato ha una pronuncia che li caratterizza quindi i dati\n",
    "simili saranno più o meno vicini"
   ]
  }
 ],
 "metadata": {
  "interpreter": {
   "hash": "2ebaf274a634552d8a15b3042380070ec906b308909811da9bf21590d88427a0"
  },
  "kernelspec": {
   "display_name": "Python 3.9.2 ('geo_env')",
   "language": "python",
   "name": "python3"
  },
  "language_info": {
   "codemirror_mode": {
    "name": "ipython",
    "version": 3
   },
   "file_extension": ".py",
   "mimetype": "text/x-python",
   "name": "python",
   "nbconvert_exporter": "python",
   "pygments_lexer": "ipython3",
   "version": "3.9.2"
  },
  "orig_nbformat": 4
 },
 "nbformat": 4,
 "nbformat_minor": 2
}
