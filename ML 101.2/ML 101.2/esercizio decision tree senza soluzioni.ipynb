{
 "cells": [
  {
   "cell_type": "markdown",
   "metadata": {},
   "source": [
    "# Esercizio"
   ]
  },
  {
   "cell_type": "markdown",
   "metadata": {},
   "source": [
    "Data Set Information:\n",
    "\n",
    "I dati sono stati estratti da immagini prese da esemplari autentici e falsificati di banconote. Per la digitalizzazione è stata utilizzata una telecamera industriale solitamente utilizzata per l'ispezione delle stampe. Le immagini finali hanno una risoluzione di 400x400 pixel. Grazie all'obiettivo dell'oggetto e alla distanza dall'oggetto indagato sono state ottenute immagini in scala di grigi con una risoluzione di circa 660 dpi. Per estrarre le caratteristiche dalle immagini è stato utilizzato lo strumento Wavelet Transform.\n",
    "\n",
    "Attribute Information:\n",
    "\n",
    "1. varianza dell'immagine trasformata (variabile continua)\n",
    "2. asimmetria dell'immagine trasformata (variabile continua)\n",
    "3. curtosi dell'immagine trasformata (variabile continua)\n",
    "4. entropia dell'immagine (variabile continua)\n",
    "5. classe (variabile intera: 0 la banconota è autentica, 1 la banconota è falsa)\n",
    "\n",
    "Utilizzare il metodo di classificazione decision tree per determinare se la seguente banconota è vera o è falsa:"
   ]
  },
  {
   "cell_type": "code",
   "execution_count": 5,
   "metadata": {},
   "outputs": [
    {
     "name": "stdout",
     "output_type": "stream",
     "text": [
      "           Variance    Skewness    Curtosis    Entropy\n",
      "-------  ----------  ----------  ----------  ---------\n",
      "-3.0866     -6.6362     10.5405    -0.89182          1\n"
     ]
    }
   ],
   "source": [
    "from tabulate import tabulate\n",
    "\n",
    "info = ['Variance', 'Skewness', 'Curtosis', 'Entropy']\n",
    "daScoprire = [-3.0866, -6.6362, 10.5405, -0.89182] \n",
    "print(tabulate([daScoprire], headers=info))"
   ]
  },
  {
   "cell_type": "code",
   "execution_count": 3,
   "metadata": {},
   "outputs": [],
   "source": [
    "# importiamo Pandas e il datafarame dal file data/bill.csv\n",
    "import pandas as pd\n",
    "df = pd.read_csv('data/bills.csv')"
   ]
  },
  {
   "cell_type": "code",
   "execution_count": 4,
   "metadata": {},
   "outputs": [
    {
     "data": {
      "text/html": [
       "<div>\n",
       "<style scoped>\n",
       "    .dataframe tbody tr th:only-of-type {\n",
       "        vertical-align: middle;\n",
       "    }\n",
       "\n",
       "    .dataframe tbody tr th {\n",
       "        vertical-align: top;\n",
       "    }\n",
       "\n",
       "    .dataframe thead th {\n",
       "        text-align: right;\n",
       "    }\n",
       "</style>\n",
       "<table border=\"1\" class=\"dataframe\">\n",
       "  <thead>\n",
       "    <tr style=\"text-align: right;\">\n",
       "      <th></th>\n",
       "      <th>Variance</th>\n",
       "      <th>Skewness</th>\n",
       "      <th>Curtosis</th>\n",
       "      <th>Entropy</th>\n",
       "      <th>Class</th>\n",
       "    </tr>\n",
       "  </thead>\n",
       "  <tbody>\n",
       "    <tr>\n",
       "      <th>0</th>\n",
       "      <td>3.62160</td>\n",
       "      <td>8.6661</td>\n",
       "      <td>-2.8073</td>\n",
       "      <td>-0.44699</td>\n",
       "      <td>0</td>\n",
       "    </tr>\n",
       "    <tr>\n",
       "      <th>1</th>\n",
       "      <td>4.54590</td>\n",
       "      <td>8.1674</td>\n",
       "      <td>-2.4586</td>\n",
       "      <td>-1.46210</td>\n",
       "      <td>0</td>\n",
       "    </tr>\n",
       "    <tr>\n",
       "      <th>2</th>\n",
       "      <td>3.86600</td>\n",
       "      <td>-2.6383</td>\n",
       "      <td>1.9242</td>\n",
       "      <td>0.10645</td>\n",
       "      <td>0</td>\n",
       "    </tr>\n",
       "    <tr>\n",
       "      <th>3</th>\n",
       "      <td>3.45660</td>\n",
       "      <td>9.5228</td>\n",
       "      <td>-4.0112</td>\n",
       "      <td>-3.59440</td>\n",
       "      <td>0</td>\n",
       "    </tr>\n",
       "    <tr>\n",
       "      <th>4</th>\n",
       "      <td>0.32924</td>\n",
       "      <td>-4.4552</td>\n",
       "      <td>4.5718</td>\n",
       "      <td>-0.98880</td>\n",
       "      <td>0</td>\n",
       "    </tr>\n",
       "  </tbody>\n",
       "</table>\n",
       "</div>"
      ],
      "text/plain": [
       "   Variance  Skewness  Curtosis  Entropy  Class\n",
       "0   3.62160    8.6661   -2.8073 -0.44699      0\n",
       "1   4.54590    8.1674   -2.4586 -1.46210      0\n",
       "2   3.86600   -2.6383    1.9242  0.10645      0\n",
       "3   3.45660    9.5228   -4.0112 -3.59440      0\n",
       "4   0.32924   -4.4552    4.5718 -0.98880      0"
      ]
     },
     "execution_count": 4,
     "metadata": {},
     "output_type": "execute_result"
    }
   ],
   "source": [
    "# visualizziamo il dataframe\n",
    "df.head(5)"
   ]
  },
  {
   "cell_type": "code",
   "execution_count": 5,
   "metadata": {},
   "outputs": [
    {
     "name": "stdout",
     "output_type": "stream",
     "text": [
      "Class\n",
      "0    762\n",
      "1    610\n",
      "dtype: int64\n"
     ]
    }
   ],
   "source": [
    "# visualizziamo il numero di banconote per ogni classe\n",
    "print(df.groupby('Class').size())"
   ]
  },
  {
   "cell_type": "code",
   "execution_count": 6,
   "metadata": {},
   "outputs": [
    {
     "data": {
      "image/png": "[encoded data removed]",
      "text/plain": [
       "<Figure size 432x288 with 1 Axes>"
      ]
     },
     "metadata": {
      "needs_background": "light"
     },
     "output_type": "display_data"
    }
   ],
   "source": [
    "# per maggior chiarezza, visualizziamo anche il grafico delle classi delle banconote\n",
    "%matplotlib inline\n",
    "import seaborn as sns\n",
    "import matplotlib.pyplot as plt\n",
    "\n",
    "sns.countplot(x=\"Class\", data=df)\n",
    "plt.title(\"Supervised Dataset\")\n",
    "plt.xlabel(\"Class\")\n",
    "plt.ylabel(\"Counts\")\n",
    "plt.show()"
   ]
  },
  {
   "cell_type": "code",
   "execution_count": 8,
   "metadata": {},
   "outputs": [
    {
     "data": {
      "text/plain": [
       "Counter({0.0: 762, 1.0: 610})"
      ]
     },
     "execution_count": 8,
     "metadata": {},
     "output_type": "execute_result"
    }
   ],
   "source": [
    "# traformiamo il dataframe in una matrice numpy e separiamo il target (la classe, ultima colonna, che chiamiamo y)\n",
    "# dal resto dei dati (le osservazioni, che chiameremo x)\n",
    "import numpy as np\n",
    "\n",
    "dfnp = df.to_numpy()\n",
    "x=dfnp[:,0:-1] # prendiamo tutti i dati tranne l'ultima colonna -> variabili indipendenti, osservazioni\n",
    "y=dfnp[:,-1] # prendiamo solo l'ultima colonna -> variabile dipendente, target \n"
   ]
  },
  {
   "cell_type": "code",
   "execution_count": 9,
   "metadata": {},
   "outputs": [
    {
     "name": "stdout",
     "output_type": "stream",
     "text": [
      "[[ 3.6216   8.6661  -2.8073  -0.44699]\n",
      " [ 4.5459   8.1674  -2.4586  -1.4621 ]\n",
      " [ 3.866   -2.6383   1.9242   0.10645]\n",
      " [ 3.4566   9.5228  -4.0112  -3.5944 ]\n",
      " [ 0.32924 -4.4552   4.5718  -0.9888 ]\n",
      " [ 4.3684   9.6718  -3.9606  -3.1625 ]\n",
      " [ 3.5912   3.0129   0.72888  0.56421]\n",
      " [ 2.0922  -6.81     8.4636  -0.60216]\n",
      " [ 3.2032   5.7588  -0.75345 -0.61251]\n",
      " [ 1.5356   9.1772  -2.2718  -0.73535]]\n",
      "y = [0. 0. 0. 0. 0. 0. 0. 0. 0. 0.]\n"
     ]
    }
   ],
   "source": [
    "# vediamo i dati presenti in x e y\n",
    "print(x[:10])\n",
    "print(f'y = {y[:10]}')"
   ]
  },
  {
   "cell_type": "code",
   "execution_count": 10,
   "metadata": {},
   "outputs": [
    {
     "data": {
      "text/plain": [
       "Counter({0.0: 762, 1.0: 610})"
      ]
     },
     "execution_count": 10,
     "metadata": {},
     "output_type": "execute_result"
    }
   ],
   "source": [
    "# ora contiamo le classi che sono presenti nella y per vedere se corrispondono a quanto trovato nel dataframe\n",
    "import collections\n",
    "collections.Counter(y)"
   ]
  },
  {
   "cell_type": "code",
   "execution_count": 11,
   "metadata": {},
   "outputs": [],
   "source": [
    "#suddividiamo ora i dati in due dataset, uno per 'allenare' il metodo (training set) \n",
    "# e l'altro per testarne l'efficacia (test set). Facciamo in modo che il training set sia il 75% del totale\n",
    "from sklearn.model_selection import train_test_split\n",
    "\n",
    "X_train, X_test, y_train, y_test = train_test_split(x, y, \n",
    "                                                    test_size =0.25, #by default is 75%-25%\n",
    "                                                    #shuffle is set True by default,\n",
    "                                                    stratify=y,\n",
    "                                                    random_state= 123) #fix random seed for replicability"
   ]
  },
  {
   "cell_type": "code",
   "execution_count": 12,
   "metadata": {},
   "outputs": [
    {
     "data": {
      "text/plain": [
       "((1029, 4), (1029,), (343, 4), (343,))"
      ]
     },
     "execution_count": 12,
     "metadata": {},
     "output_type": "execute_result"
    }
   ],
   "source": [
    "# visualizziamo gli shape dei vari dataset X_train, X_test, y_train e y_test\n",
    "X_train.shape,y_train.shape,X_test.shape,y_test.shape"
   ]
  },
  {
   "cell_type": "code",
   "execution_count": 16,
   "metadata": {},
   "outputs": [
    {
     "name": "stdout",
     "output_type": "stream",
     "text": [
      "[[  0.16358  -3.3584    1.3749    1.3569 ]\n",
      " [  3.5156   10.1891   -4.2759   -4.978  ]\n",
      " [  1.8993    7.6625    0.15394  -3.1108 ]\n",
      " [  2.2517   -5.1422    4.2916   -1.2487 ]\n",
      " [ -1.7713  -10.7665   10.2184   -1.0043 ]\n",
      " [  3.6244    1.4609    1.3501    1.9284 ]\n",
      " [  2.6606    3.1681    1.9619    0.18662]\n",
      " [  4.9264    5.496    -2.4774   -0.50648]\n",
      " [ -2.7611  -10.5099    9.0239   -1.9547 ]\n",
      " [  4.5597   -2.4211    2.6413    1.6168 ]]\n",
      "y_train = [1. 0. 0. 0. 1. 0. 0. 0. 1. 0.]\n"
     ]
    }
   ],
   "source": [
    "# visualizziamo anche le prime 10 righe dell'X_train e dell'y_train per vedere i dati\n",
    "# eliminiamo la notazione scientifica per comodità di lettura\n"
   ]
  },
  {
   "cell_type": "code",
   "execution_count": 17,
   "metadata": {},
   "outputs": [],
   "source": [
    "# importiamo il metodo di classificazione decision tree\n"
   ]
  },
  {
   "cell_type": "code",
   "execution_count": 44,
   "metadata": {},
   "outputs": [],
   "source": [
    "# inizializziamo il metodo con i seguenti parametri:\n",
    "# criterio: indice di Gini\n",
    "# profondità massima dell'albero: 8\n",
    "# dimensione minima per lo split: 25\n",
    "# numero di campioni delle foglie: 10\n"
   ]
  },
  {
   "cell_type": "code",
   "execution_count": 45,
   "metadata": {},
   "outputs": [
    {
     "data": {
      "text/plain": [
       "DecisionTreeClassifier(ccp_alpha=0.0, class_weight=None, criterion='gini',\n",
       "                       max_depth=8, max_features=None, max_leaf_nodes=10,\n",
       "                       min_impurity_decrease=0.0, min_impurity_split=None,\n",
       "                       min_samples_leaf=10, min_samples_split=25,\n",
       "                       min_weight_fraction_leaf=0.0, presort='deprecated',\n",
       "                       random_state=None, splitter='best')"
      ]
     },
     "execution_count": 45,
     "metadata": {},
     "output_type": "execute_result"
    }
   ],
   "source": [
    "# \"alleniamo\" il metodo con i dati del training set\n"
   ]
  },
  {
   "cell_type": "code",
   "execution_count": 46,
   "metadata": {},
   "outputs": [],
   "source": [
    "# proviamo a fare una previsione sui dati del test set\n"
   ]
  },
  {
   "cell_type": "code",
   "execution_count": 47,
   "metadata": {},
   "outputs": [
    {
     "name": "stdout",
     "output_type": "stream",
     "text": [
      "dati predetti dal metodo =                [1. 0. 1. 1. 1. 0. 1. 0. 0. 0.]\n",
      "dati reali presenti nel dataset di test = [0. 0. 1. 1. 1. 0. 1. 0. 0. 1.]\n"
     ]
    }
   ],
   "source": [
    "# e visualizziamo il risultato (solo i primi dieci vini)\n"
   ]
  },
  {
   "cell_type": "code",
   "execution_count": 48,
   "metadata": {},
   "outputs": [
    {
     "data": {
      "image/png": "[encoded data removed]",
      "text/plain": [
       "<Figure size 432x288 with 1 Axes>"
      ]
     },
     "metadata": {
      "needs_background": "light"
     },
     "output_type": "display_data"
    }
   ],
   "source": [
    "# valutiamo il nostro metodo:\n",
    "\n",
    "# visualizziamo la confusion matrix\n"
   ]
  },
  {
   "cell_type": "code",
   "execution_count": 24,
   "metadata": {},
   "outputs": [],
   "source": [
    "# quanto valgono TP, FP, FN e TN?\n",
    "# TP =\n",
    "# FP =\n",
    "# FN =\n",
    "# TN ="
   ]
  },
  {
   "cell_type": "code",
   "execution_count": 25,
   "metadata": {},
   "outputs": [],
   "source": [
    "# sulla base della confusion matrix, cosa possiamo dire di questo metodo? Motivare la risposta\n",
    "# risposta:"
   ]
  },
  {
   "cell_type": "code",
   "execution_count": 49,
   "metadata": {},
   "outputs": [
    {
     "name": "stdout",
     "output_type": "stream",
     "text": [
      "              precision    recall  f1-score   support\n",
      "\n",
      "         0.0       0.95      0.94      0.94       191\n",
      "         1.0       0.92      0.94      0.93       152\n",
      "\n",
      "    accuracy                           0.94       343\n",
      "   macro avg       0.94      0.94      0.94       343\n",
      "weighted avg       0.94      0.94      0.94       343\n",
      "\n"
     ]
    }
   ],
   "source": [
    "# visualizziamo ora gli indicatori classici:\n"
   ]
  },
  {
   "cell_type": "code",
   "execution_count": 27,
   "metadata": {},
   "outputs": [],
   "source": [
    "# sulla base degli indicatori, che cosa possiamo dire del nostro metodo? Motivare la risposta\n",
    "# risposta:"
   ]
  },
  {
   "cell_type": "code",
   "execution_count": 50,
   "metadata": {},
   "outputs": [
    {
     "name": "stdout",
     "output_type": "stream",
     "text": [
      "|--- Variance <= 0.32\n",
      "|   |--- Skewness <= 7.13\n",
      "|   |   |--- Variance <= -0.47\n",
      "|   |   |   |--- class: 1.0\n",
      "|   |   |--- Variance >  -0.47\n",
      "|   |   |   |--- class: 1.0\n",
      "|   |--- Skewness >  7.13\n",
      "|   |   |--- Variance <= -4.38\n",
      "|   |   |   |--- class: 1.0\n",
      "|   |   |--- Variance >  -4.38\n",
      "|   |   |   |--- class: 0.0\n",
      "|--- Variance >  0.32\n",
      "|   |--- Curtosis <= -4.39\n",
      "|   |   |--- Variance <= 2.21\n",
      "|   |   |   |--- class: 1.0\n",
      "|   |   |--- Variance >  2.21\n",
      "|   |   |   |--- class: 0.0\n",
      "|   |--- Curtosis >  -4.39\n",
      "|   |   |--- Variance <= 1.57\n",
      "|   |   |   |--- Curtosis <= -2.27\n",
      "|   |   |   |   |--- class: 1.0\n",
      "|   |   |   |--- Curtosis >  -2.27\n",
      "|   |   |   |   |--- Entropy <= 0.23\n",
      "|   |   |   |   |   |--- class: 0.0\n",
      "|   |   |   |   |--- Entropy >  0.23\n",
      "|   |   |   |   |   |--- class: 0.0\n",
      "|   |   |--- Variance >  1.57\n",
      "|   |   |   |--- class: 0.0\n",
      "\n"
     ]
    }
   ],
   "source": [
    "# visualizziamo ora il decision tree, prima in forma testuale\n"
   ]
  },
  {
   "cell_type": "code",
   "execution_count": 51,
   "metadata": {},
   "outputs": [
    {
     "data": {
      "image/svg+xml": "<?xml version=\"1.0\" encoding=\"UTF-8\" standalone=\"no\"?>\r\n<!DOCTYPE svg PUBLIC \"-//W3C//DTD SVG 1.1//EN\"\r\n \"http://www.w3.org/Graphics/SVG/1.1/DTD/svg11.dtd\">\r\n<!-- Generated by graphviz version 2.38.0 (20140413.2041)\r\n -->\r\n<!-- Title: Tree Pages: 1 -->\r\n<svg width=\"1026pt\" height=\"671pt\"\r\n viewBox=\"0.00 0.00 1025.50 671.00\" xmlns=\"http://www.w3.org/2000/svg\" xmlns:xlink=\"http://www.w3.org/1999/xlink\">\r\n<g id=\"graph0\" class=\"graph\" transform=\"scale(1 1) rotate(0) translate(4 667)\">\r\n<title>Tree</title>\r\n<polygon fill=\"white\" stroke=\"none\" points=\"-4,4 -4,-667 1021.5,-667 1021.5,4 -4,4\"/>\r\n<!-- 0 -->\r\n<g id=\"node1\" class=\"node\"><title>0</title>\r\n<path fill=\"#fae6d8\" stroke=\"black\" d=\"M538,-663C538,-663 432,-663 432,-663 426,-663 420,-657 420,-651 420,-651 420,-592 420,-592 420,-586 426,-580 432,-580 432,-580 538,-580 538,-580 544,-580 550,-586 550,-592 550,-592 550,-651 550,-651 550,-657 544,-663 538,-663\"/>\r\n<text text-anchor=\"start\" x=\"435\" y=\"-647.8\" font-family=\"Helvetica,sans-Serif\" font-size=\"14.00\">Variance ≤ 0.32</text>\r\n<text text-anchor=\"start\" x=\"447.5\" y=\"-632.8\" font-family=\"Helvetica,sans-Serif\" font-size=\"14.00\">gini = 0.494</text>\r\n<text text-anchor=\"start\" x=\"433.5\" y=\"-617.8\" font-family=\"Helvetica,sans-Serif\" font-size=\"14.00\">samples = 1029</text>\r\n<text text-anchor=\"start\" x=\"428\" y=\"-602.8\" font-family=\"Helvetica,sans-Serif\" font-size=\"14.00\">value = [571, 458]</text>\r\n<text text-anchor=\"start\" x=\"456\" y=\"-587.8\" font-family=\"Helvetica,sans-Serif\" font-size=\"14.00\">class = 0</text>\r\n</g>\r\n<!-- 1 -->\r\n<g id=\"node2\" class=\"node\"><title>1</title>\r\n<path fill=\"#67b4eb\" stroke=\"black\" d=\"M444,-544C444,-544 334,-544 334,-544 328,-544 322,-538 322,-532 322,-532 322,-473 322,-473 322,-467 328,-461 334,-461 334,-461 444,-461 444,-461 450,-461 456,-467 456,-473 456,-473 456,-532 456,-532 456,-538 450,-544 444,-544\"/>\r\n<text text-anchor=\"start\" x=\"330\" y=\"-528.8\" font-family=\"Helvetica,sans-Serif\" font-size=\"14.00\">Skewness ≤ 7.128</text>\r\n<text text-anchor=\"start\" x=\"351.5\" y=\"-513.8\" font-family=\"Helvetica,sans-Serif\" font-size=\"14.00\">gini = 0.307</text>\r\n<text text-anchor=\"start\" x=\"341.5\" y=\"-498.8\" font-family=\"Helvetica,sans-Serif\" font-size=\"14.00\">samples = 497</text>\r\n<text text-anchor=\"start\" x=\"336\" y=\"-483.8\" font-family=\"Helvetica,sans-Serif\" font-size=\"14.00\">value = [94, 403]</text>\r\n<text text-anchor=\"start\" x=\"360\" y=\"-468.8\" font-family=\"Helvetica,sans-Serif\" font-size=\"14.00\">class = 1</text>\r\n</g>\r\n<!-- 0&#45;&gt;1 -->\r\n<g id=\"edge1\" class=\"edge\"><title>0&#45;&gt;1</title>\r\n<path fill=\"none\" stroke=\"black\" d=\"M451.693,-579.907C444.247,-570.832 436.279,-561.121 428.606,-551.769\"/>\r\n<polygon fill=\"black\" stroke=\"black\" points=\"431.297,-549.531 422.248,-544.021 425.885,-553.972 431.297,-549.531\"/>\r\n<text text-anchor=\"middle\" x=\"419.795\" y=\"-565.2\" font-family=\"Helvetica,sans-Serif\" font-size=\"14.00\">True</text>\r\n</g>\r\n<!-- 2 -->\r\n<g id=\"node9\" class=\"node\"><title>2</title>\r\n<path fill=\"#e89050\" stroke=\"black\" d=\"M632.5,-544C632.5,-544 531.5,-544 531.5,-544 525.5,-544 519.5,-538 519.5,-532 519.5,-532 519.5,-473 519.5,-473 519.5,-467 525.5,-461 531.5,-461 531.5,-461 632.5,-461 632.5,-461 638.5,-461 644.5,-467 644.5,-473 644.5,-473 644.5,-532 644.5,-532 644.5,-538 638.5,-544 632.5,-544\"/>\r\n<text text-anchor=\"start\" x=\"527.5\" y=\"-528.8\" font-family=\"Helvetica,sans-Serif\" font-size=\"14.00\">Curtosis ≤ &#45;4.386</text>\r\n<text text-anchor=\"start\" x=\"544.5\" y=\"-513.8\" font-family=\"Helvetica,sans-Serif\" font-size=\"14.00\">gini = 0.185</text>\r\n<text text-anchor=\"start\" x=\"534.5\" y=\"-498.8\" font-family=\"Helvetica,sans-Serif\" font-size=\"14.00\">samples = 532</text>\r\n<text text-anchor=\"start\" x=\"529\" y=\"-483.8\" font-family=\"Helvetica,sans-Serif\" font-size=\"14.00\">value = [477, 55]</text>\r\n<text text-anchor=\"start\" x=\"553\" y=\"-468.8\" font-family=\"Helvetica,sans-Serif\" font-size=\"14.00\">class = 0</text>\r\n</g>\r\n<!-- 0&#45;&gt;2 -->\r\n<g id=\"edge8\" class=\"edge\"><title>0&#45;&gt;2</title>\r\n<path fill=\"none\" stroke=\"black\" d=\"M518.654,-579.907C526.177,-570.832 534.229,-561.121 541.982,-551.769\"/>\r\n<polygon fill=\"black\" stroke=\"black\" points=\"544.718,-553.953 548.406,-544.021 539.329,-549.485 544.718,-553.953\"/>\r\n<text text-anchor=\"middle\" x=\"550.732\" y=\"-565.212\" font-family=\"Helvetica,sans-Serif\" font-size=\"14.00\">False</text>\r\n</g>\r\n<!-- 3 -->\r\n<g id=\"node3\" class=\"node\"><title>3</title>\r\n<path fill=\"#46a3e7\" stroke=\"black\" d=\"M249,-425C249,-425 145,-425 145,-425 139,-425 133,-419 133,-413 133,-413 133,-354 133,-354 133,-348 139,-342 145,-342 145,-342 249,-342 249,-342 255,-342 261,-348 261,-354 261,-354 261,-413 261,-413 261,-419 255,-425 249,-425\"/>\r\n<text text-anchor=\"start\" x=\"141\" y=\"-409.8\" font-family=\"Helvetica,sans-Serif\" font-size=\"14.00\">Variance ≤ &#45;0.472</text>\r\n<text text-anchor=\"start\" x=\"159.5\" y=\"-394.8\" font-family=\"Helvetica,sans-Serif\" font-size=\"14.00\">gini = 0.115</text>\r\n<text text-anchor=\"start\" x=\"149.5\" y=\"-379.8\" font-family=\"Helvetica,sans-Serif\" font-size=\"14.00\">samples = 408</text>\r\n<text text-anchor=\"start\" x=\"144\" y=\"-364.8\" font-family=\"Helvetica,sans-Serif\" font-size=\"14.00\">value = [25, 383]</text>\r\n<text text-anchor=\"start\" x=\"168\" y=\"-349.8\" font-family=\"Helvetica,sans-Serif\" font-size=\"14.00\">class = 1</text>\r\n</g>\r\n<!-- 1&#45;&gt;3 -->\r\n<g id=\"edge2\" class=\"edge\"><title>1&#45;&gt;3</title>\r\n<path fill=\"none\" stroke=\"black\" d=\"M322.387,-460.907C305.508,-450.622 287.288,-439.52 270.108,-429.05\"/>\r\n<polygon fill=\"black\" stroke=\"black\" points=\"271.591,-425.855 261.23,-423.64 267.949,-431.833 271.591,-425.855\"/>\r\n</g>\r\n<!-- 4 -->\r\n<g id=\"node6\" class=\"node\"><title>4</title>\r\n<path fill=\"#eda672\" stroke=\"black\" d=\"M441,-425C441,-425 337,-425 337,-425 331,-425 325,-419 325,-413 325,-413 325,-354 325,-354 325,-348 331,-342 337,-342 337,-342 441,-342 441,-342 447,-342 453,-348 453,-354 453,-354 453,-413 453,-413 453,-419 447,-425 441,-425\"/>\r\n<text text-anchor=\"start\" x=\"333\" y=\"-409.8\" font-family=\"Helvetica,sans-Serif\" font-size=\"14.00\">Variance ≤ &#45;4.382</text>\r\n<text text-anchor=\"start\" x=\"351.5\" y=\"-394.8\" font-family=\"Helvetica,sans-Serif\" font-size=\"14.00\">gini = 0.348</text>\r\n<text text-anchor=\"start\" x=\"345.5\" y=\"-379.8\" font-family=\"Helvetica,sans-Serif\" font-size=\"14.00\">samples = 89</text>\r\n<text text-anchor=\"start\" x=\"340.5\" y=\"-364.8\" font-family=\"Helvetica,sans-Serif\" font-size=\"14.00\">value = [69, 20]</text>\r\n<text text-anchor=\"start\" x=\"360\" y=\"-349.8\" font-family=\"Helvetica,sans-Serif\" font-size=\"14.00\">class = 0</text>\r\n</g>\r\n<!-- 1&#45;&gt;4 -->\r\n<g id=\"edge5\" class=\"edge\"><title>1&#45;&gt;4</title>\r\n<path fill=\"none\" stroke=\"black\" d=\"M389,-460.907C389,-452.649 389,-443.864 389,-435.302\"/>\r\n<polygon fill=\"black\" stroke=\"black\" points=\"392.5,-435.021 389,-425.021 385.5,-435.021 392.5,-435.021\"/>\r\n</g>\r\n<!-- 17 -->\r\n<g id=\"node4\" class=\"node\"><title>17</title>\r\n<path fill=\"#40a0e6\" stroke=\"black\" d=\"M110,-298.5C110,-298.5 12,-298.5 12,-298.5 6,-298.5 7.10543e-015,-292.5 7.10543e-015,-286.5 7.10543e-015,-286.5 7.10543e-015,-242.5 7.10543e-015,-242.5 7.10543e-015,-236.5 6,-230.5 12,-230.5 12,-230.5 110,-230.5 110,-230.5 116,-230.5 122,-236.5 122,-242.5 122,-242.5 122,-286.5 122,-286.5 122,-292.5 116,-298.5 110,-298.5\"/>\r\n<text text-anchor=\"start\" x=\"23.5\" y=\"-283.3\" font-family=\"Helvetica,sans-Serif\" font-size=\"14.00\">gini = 0.062</text>\r\n<text text-anchor=\"start\" x=\"13.5\" y=\"-268.3\" font-family=\"Helvetica,sans-Serif\" font-size=\"14.00\">samples = 346</text>\r\n<text text-anchor=\"start\" x=\"8\" y=\"-253.3\" font-family=\"Helvetica,sans-Serif\" font-size=\"14.00\">value = [11, 335]</text>\r\n<text text-anchor=\"start\" x=\"32\" y=\"-238.3\" font-family=\"Helvetica,sans-Serif\" font-size=\"14.00\">class = 1</text>\r\n</g>\r\n<!-- 3&#45;&gt;17 -->\r\n<g id=\"edge3\" class=\"edge\"><title>3&#45;&gt;17</title>\r\n<path fill=\"none\" stroke=\"black\" d=\"M149.815,-341.907C136.091,-330.101 121.115,-317.217 107.437,-305.45\"/>\r\n<polygon fill=\"black\" stroke=\"black\" points=\"109.416,-302.535 99.553,-298.667 104.851,-307.842 109.416,-302.535\"/>\r\n</g>\r\n<!-- 18 -->\r\n<g id=\"node5\" class=\"node\"><title>18</title>\r\n<path fill=\"#73baed\" stroke=\"black\" d=\"M241.5,-298.5C241.5,-298.5 152.5,-298.5 152.5,-298.5 146.5,-298.5 140.5,-292.5 140.5,-286.5 140.5,-286.5 140.5,-242.5 140.5,-242.5 140.5,-236.5 146.5,-230.5 152.5,-230.5 152.5,-230.5 241.5,-230.5 241.5,-230.5 247.5,-230.5 253.5,-236.5 253.5,-242.5 253.5,-242.5 253.5,-286.5 253.5,-286.5 253.5,-292.5 247.5,-298.5 241.5,-298.5\"/>\r\n<text text-anchor=\"start\" x=\"163.5\" y=\"-283.3\" font-family=\"Helvetica,sans-Serif\" font-size=\"14.00\">gini = 0.35</text>\r\n<text text-anchor=\"start\" x=\"153.5\" y=\"-268.3\" font-family=\"Helvetica,sans-Serif\" font-size=\"14.00\">samples = 62</text>\r\n<text text-anchor=\"start\" x=\"148.5\" y=\"-253.3\" font-family=\"Helvetica,sans-Serif\" font-size=\"14.00\">value = [14, 48]</text>\r\n<text text-anchor=\"start\" x=\"168\" y=\"-238.3\" font-family=\"Helvetica,sans-Serif\" font-size=\"14.00\">class = 1</text>\r\n</g>\r\n<!-- 3&#45;&gt;18 -->\r\n<g id=\"edge4\" class=\"edge\"><title>3&#45;&gt;18</title>\r\n<path fill=\"none\" stroke=\"black\" d=\"M197,-341.907C197,-331.204 197,-319.615 197,-308.776\"/>\r\n<polygon fill=\"black\" stroke=\"black\" points=\"200.5,-308.667 197,-298.667 193.5,-308.667 200.5,-308.667\"/>\r\n</g>\r\n<!-- 5 -->\r\n<g id=\"node7\" class=\"node\"><title>5</title>\r\n<path fill=\"#399de5\" stroke=\"black\" d=\"M364.5,-298.5C364.5,-298.5 283.5,-298.5 283.5,-298.5 277.5,-298.5 271.5,-292.5 271.5,-286.5 271.5,-286.5 271.5,-242.5 271.5,-242.5 271.5,-236.5 277.5,-230.5 283.5,-230.5 283.5,-230.5 364.5,-230.5 364.5,-230.5 370.5,-230.5 376.5,-236.5 376.5,-242.5 376.5,-242.5 376.5,-286.5 376.5,-286.5 376.5,-292.5 370.5,-298.5 364.5,-298.5\"/>\r\n<text text-anchor=\"start\" x=\"295\" y=\"-283.3\" font-family=\"Helvetica,sans-Serif\" font-size=\"14.00\">gini = 0.0</text>\r\n<text text-anchor=\"start\" x=\"280.5\" y=\"-268.3\" font-family=\"Helvetica,sans-Serif\" font-size=\"14.00\">samples = 20</text>\r\n<text text-anchor=\"start\" x=\"279.5\" y=\"-253.3\" font-family=\"Helvetica,sans-Serif\" font-size=\"14.00\">value = [0, 20]</text>\r\n<text text-anchor=\"start\" x=\"295\" y=\"-238.3\" font-family=\"Helvetica,sans-Serif\" font-size=\"14.00\">class = 1</text>\r\n</g>\r\n<!-- 4&#45;&gt;5 -->\r\n<g id=\"edge6\" class=\"edge\"><title>4&#45;&gt;5</title>\r\n<path fill=\"none\" stroke=\"black\" d=\"M366.449,-341.907C360.257,-330.763 353.532,-318.658 347.3,-307.439\"/>\r\n<polygon fill=\"black\" stroke=\"black\" points=\"350.342,-305.709 342.426,-298.667 344.223,-309.108 350.342,-305.709\"/>\r\n</g>\r\n<!-- 6 -->\r\n<g id=\"node8\" class=\"node\"><title>6</title>\r\n<path fill=\"#e58139\" stroke=\"black\" d=\"M487.5,-298.5C487.5,-298.5 406.5,-298.5 406.5,-298.5 400.5,-298.5 394.5,-292.5 394.5,-286.5 394.5,-286.5 394.5,-242.5 394.5,-242.5 394.5,-236.5 400.5,-230.5 406.5,-230.5 406.5,-230.5 487.5,-230.5 487.5,-230.5 493.5,-230.5 499.5,-236.5 499.5,-242.5 499.5,-242.5 499.5,-286.5 499.5,-286.5 499.5,-292.5 493.5,-298.5 487.5,-298.5\"/>\r\n<text text-anchor=\"start\" x=\"418\" y=\"-283.3\" font-family=\"Helvetica,sans-Serif\" font-size=\"14.00\">gini = 0.0</text>\r\n<text text-anchor=\"start\" x=\"403.5\" y=\"-268.3\" font-family=\"Helvetica,sans-Serif\" font-size=\"14.00\">samples = 69</text>\r\n<text text-anchor=\"start\" x=\"402.5\" y=\"-253.3\" font-family=\"Helvetica,sans-Serif\" font-size=\"14.00\">value = [69, 0]</text>\r\n<text text-anchor=\"start\" x=\"418\" y=\"-238.3\" font-family=\"Helvetica,sans-Serif\" font-size=\"14.00\">class = 0</text>\r\n</g>\r\n<!-- 4&#45;&gt;6 -->\r\n<g id=\"edge7\" class=\"edge\"><title>4&#45;&gt;6</title>\r\n<path fill=\"none\" stroke=\"black\" d=\"M409.123,-341.907C414.593,-330.873 420.529,-318.898 426.044,-307.773\"/>\r\n<polygon fill=\"black\" stroke=\"black\" points=\"429.253,-309.181 430.558,-298.667 422.981,-306.072 429.253,-309.181\"/>\r\n</g>\r\n<!-- 7 -->\r\n<g id=\"node10\" class=\"node\"><title>7</title>\r\n<path fill=\"#78bced\" stroke=\"black\" d=\"M632,-425C632,-425 532,-425 532,-425 526,-425 520,-419 520,-413 520,-413 520,-354 520,-354 520,-348 526,-342 532,-342 532,-342 632,-342 632,-342 638,-342 644,-348 644,-354 644,-354 644,-413 644,-413 644,-419 638,-425 632,-425\"/>\r\n<text text-anchor=\"start\" x=\"528\" y=\"-409.8\" font-family=\"Helvetica,sans-Serif\" font-size=\"14.00\">Variance ≤ 2.211</text>\r\n<text text-anchor=\"start\" x=\"544.5\" y=\"-394.8\" font-family=\"Helvetica,sans-Serif\" font-size=\"14.00\">gini = 0.367</text>\r\n<text text-anchor=\"start\" x=\"538.5\" y=\"-379.8\" font-family=\"Helvetica,sans-Serif\" font-size=\"14.00\">samples = 33</text>\r\n<text text-anchor=\"start\" x=\"537.5\" y=\"-364.8\" font-family=\"Helvetica,sans-Serif\" font-size=\"14.00\">value = [8, 25]</text>\r\n<text text-anchor=\"start\" x=\"553\" y=\"-349.8\" font-family=\"Helvetica,sans-Serif\" font-size=\"14.00\">class = 1</text>\r\n</g>\r\n<!-- 2&#45;&gt;7 -->\r\n<g id=\"edge9\" class=\"edge\"><title>2&#45;&gt;7</title>\r\n<path fill=\"none\" stroke=\"black\" d=\"M582,-460.907C582,-452.649 582,-443.864 582,-435.302\"/>\r\n<polygon fill=\"black\" stroke=\"black\" points=\"585.5,-435.021 582,-425.021 578.5,-435.021 585.5,-435.021\"/>\r\n</g>\r\n<!-- 8 -->\r\n<g id=\"node13\" class=\"node\"><title>8</title>\r\n<path fill=\"#e78946\" stroke=\"black\" d=\"M874,-425C874,-425 774,-425 774,-425 768,-425 762,-419 762,-413 762,-413 762,-354 762,-354 762,-348 768,-342 774,-342 774,-342 874,-342 874,-342 880,-342 886,-348 886,-354 886,-354 886,-413 886,-413 886,-419 880,-425 874,-425\"/>\r\n<text text-anchor=\"start\" x=\"770\" y=\"-409.8\" font-family=\"Helvetica,sans-Serif\" font-size=\"14.00\">Variance ≤ 1.565</text>\r\n<text text-anchor=\"start\" x=\"786.5\" y=\"-394.8\" font-family=\"Helvetica,sans-Serif\" font-size=\"14.00\">gini = 0.113</text>\r\n<text text-anchor=\"start\" x=\"776.5\" y=\"-379.8\" font-family=\"Helvetica,sans-Serif\" font-size=\"14.00\">samples = 499</text>\r\n<text text-anchor=\"start\" x=\"771\" y=\"-364.8\" font-family=\"Helvetica,sans-Serif\" font-size=\"14.00\">value = [469, 30]</text>\r\n<text text-anchor=\"start\" x=\"795\" y=\"-349.8\" font-family=\"Helvetica,sans-Serif\" font-size=\"14.00\">class = 0</text>\r\n</g>\r\n<!-- 2&#45;&gt;8 -->\r\n<g id=\"edge12\" class=\"edge\"><title>2&#45;&gt;8</title>\r\n<path fill=\"none\" stroke=\"black\" d=\"M644.636,-471.217C677.675,-455.244 718.349,-435.579 752.607,-419.017\"/>\r\n<polygon fill=\"black\" stroke=\"black\" points=\"754.147,-422.159 761.627,-414.656 751.1,-415.857 754.147,-422.159\"/>\r\n</g>\r\n<!-- 9 -->\r\n<g id=\"node11\" class=\"node\"><title>9</title>\r\n<path fill=\"#399de5\" stroke=\"black\" d=\"M610.5,-298.5C610.5,-298.5 529.5,-298.5 529.5,-298.5 523.5,-298.5 517.5,-292.5 517.5,-286.5 517.5,-286.5 517.5,-242.5 517.5,-242.5 517.5,-236.5 523.5,-230.5 529.5,-230.5 529.5,-230.5 610.5,-230.5 610.5,-230.5 616.5,-230.5 622.5,-236.5 622.5,-242.5 622.5,-242.5 622.5,-286.5 622.5,-286.5 622.5,-292.5 616.5,-298.5 610.5,-298.5\"/>\r\n<text text-anchor=\"start\" x=\"541\" y=\"-283.3\" font-family=\"Helvetica,sans-Serif\" font-size=\"14.00\">gini = 0.0</text>\r\n<text text-anchor=\"start\" x=\"526.5\" y=\"-268.3\" font-family=\"Helvetica,sans-Serif\" font-size=\"14.00\">samples = 23</text>\r\n<text text-anchor=\"start\" x=\"525.5\" y=\"-253.3\" font-family=\"Helvetica,sans-Serif\" font-size=\"14.00\">value = [0, 23]</text>\r\n<text text-anchor=\"start\" x=\"541\" y=\"-238.3\" font-family=\"Helvetica,sans-Serif\" font-size=\"14.00\">class = 1</text>\r\n</g>\r\n<!-- 7&#45;&gt;9 -->\r\n<g id=\"edge10\" class=\"edge\"><title>7&#45;&gt;9</title>\r\n<path fill=\"none\" stroke=\"black\" d=\"M577.837,-341.907C576.739,-331.204 575.55,-319.615 574.439,-308.776\"/>\r\n<polygon fill=\"black\" stroke=\"black\" points=\"577.904,-308.258 573.402,-298.667 570.94,-308.972 577.904,-308.258\"/>\r\n</g>\r\n<!-- 10 -->\r\n<g id=\"node12\" class=\"node\"><title>10</title>\r\n<path fill=\"#eca06a\" stroke=\"black\" d=\"M731.5,-298.5C731.5,-298.5 652.5,-298.5 652.5,-298.5 646.5,-298.5 640.5,-292.5 640.5,-286.5 640.5,-286.5 640.5,-242.5 640.5,-242.5 640.5,-236.5 646.5,-230.5 652.5,-230.5 652.5,-230.5 731.5,-230.5 731.5,-230.5 737.5,-230.5 743.5,-236.5 743.5,-242.5 743.5,-242.5 743.5,-286.5 743.5,-286.5 743.5,-292.5 737.5,-298.5 731.5,-298.5\"/>\r\n<text text-anchor=\"start\" x=\"658.5\" y=\"-283.3\" font-family=\"Helvetica,sans-Serif\" font-size=\"14.00\">gini = 0.32</text>\r\n<text text-anchor=\"start\" x=\"648.5\" y=\"-268.3\" font-family=\"Helvetica,sans-Serif\" font-size=\"14.00\">samples = 10</text>\r\n<text text-anchor=\"start\" x=\"651.5\" y=\"-253.3\" font-family=\"Helvetica,sans-Serif\" font-size=\"14.00\">value = [8, 2]</text>\r\n<text text-anchor=\"start\" x=\"663\" y=\"-238.3\" font-family=\"Helvetica,sans-Serif\" font-size=\"14.00\">class = 0</text>\r\n</g>\r\n<!-- 7&#45;&gt;10 -->\r\n<g id=\"edge11\" class=\"edge\"><title>7&#45;&gt;10</title>\r\n<path fill=\"none\" stroke=\"black\" d=\"M620.164,-341.907C631.057,-330.321 642.925,-317.698 653.819,-306.111\"/>\r\n<polygon fill=\"black\" stroke=\"black\" points=\"656.518,-308.35 660.817,-298.667 651.418,-303.555 656.518,-308.35\"/>\r\n</g>\r\n<!-- 11 -->\r\n<g id=\"node14\" class=\"node\"><title>11</title>\r\n<path fill=\"#eb9f68\" stroke=\"black\" d=\"M874.5,-306C874.5,-306 773.5,-306 773.5,-306 767.5,-306 761.5,-300 761.5,-294 761.5,-294 761.5,-235 761.5,-235 761.5,-229 767.5,-223 773.5,-223 773.5,-223 874.5,-223 874.5,-223 880.5,-223 886.5,-229 886.5,-235 886.5,-235 886.5,-294 886.5,-294 886.5,-300 880.5,-306 874.5,-306\"/>\r\n<text text-anchor=\"start\" x=\"769.5\" y=\"-290.8\" font-family=\"Helvetica,sans-Serif\" font-size=\"14.00\">Curtosis ≤ &#45;2.272</text>\r\n<text text-anchor=\"start\" x=\"786.5\" y=\"-275.8\" font-family=\"Helvetica,sans-Serif\" font-size=\"14.00\">gini = 0.311</text>\r\n<text text-anchor=\"start\" x=\"776.5\" y=\"-260.8\" font-family=\"Helvetica,sans-Serif\" font-size=\"14.00\">samples = 140</text>\r\n<text text-anchor=\"start\" x=\"771\" y=\"-245.8\" font-family=\"Helvetica,sans-Serif\" font-size=\"14.00\">value = [113, 27]</text>\r\n<text text-anchor=\"start\" x=\"795\" y=\"-230.8\" font-family=\"Helvetica,sans-Serif\" font-size=\"14.00\">class = 0</text>\r\n</g>\r\n<!-- 8&#45;&gt;11 -->\r\n<g id=\"edge13\" class=\"edge\"><title>8&#45;&gt;11</title>\r\n<path fill=\"none\" stroke=\"black\" d=\"M824,-341.907C824,-333.649 824,-324.864 824,-316.302\"/>\r\n<polygon fill=\"black\" stroke=\"black\" points=\"827.5,-316.021 824,-306.021 820.5,-316.021 827.5,-316.021\"/>\r\n</g>\r\n<!-- 12 -->\r\n<g id=\"node19\" class=\"node\"><title>12</title>\r\n<path fill=\"#e5823b\" stroke=\"black\" d=\"M1005.5,-298.5C1005.5,-298.5 916.5,-298.5 916.5,-298.5 910.5,-298.5 904.5,-292.5 904.5,-286.5 904.5,-286.5 904.5,-242.5 904.5,-242.5 904.5,-236.5 910.5,-230.5 916.5,-230.5 916.5,-230.5 1005.5,-230.5 1005.5,-230.5 1011.5,-230.5 1017.5,-236.5 1017.5,-242.5 1017.5,-242.5 1017.5,-286.5 1017.5,-286.5 1017.5,-292.5 1011.5,-298.5 1005.5,-298.5\"/>\r\n<text text-anchor=\"start\" x=\"923.5\" y=\"-283.3\" font-family=\"Helvetica,sans-Serif\" font-size=\"14.00\">gini = 0.017</text>\r\n<text text-anchor=\"start\" x=\"913.5\" y=\"-268.3\" font-family=\"Helvetica,sans-Serif\" font-size=\"14.00\">samples = 359</text>\r\n<text text-anchor=\"start\" x=\"912.5\" y=\"-253.3\" font-family=\"Helvetica,sans-Serif\" font-size=\"14.00\">value = [356, 3]</text>\r\n<text text-anchor=\"start\" x=\"932\" y=\"-238.3\" font-family=\"Helvetica,sans-Serif\" font-size=\"14.00\">class = 0</text>\r\n</g>\r\n<!-- 8&#45;&gt;12 -->\r\n<g id=\"edge18\" class=\"edge\"><title>8&#45;&gt;12</title>\r\n<path fill=\"none\" stroke=\"black\" d=\"M871.531,-341.907C885.357,-330.101 900.443,-317.217 914.221,-305.45\"/>\r\n<polygon fill=\"black\" stroke=\"black\" points=\"916.832,-307.823 922.164,-298.667 912.286,-302.5 916.832,-307.823\"/>\r\n</g>\r\n<!-- 13 -->\r\n<g id=\"node15\" class=\"node\"><title>13</title>\r\n<path fill=\"#52a9e8\" stroke=\"black\" d=\"M798.5,-179.5C798.5,-179.5 717.5,-179.5 717.5,-179.5 711.5,-179.5 705.5,-173.5 705.5,-167.5 705.5,-167.5 705.5,-123.5 705.5,-123.5 705.5,-117.5 711.5,-111.5 717.5,-111.5 717.5,-111.5 798.5,-111.5 798.5,-111.5 804.5,-111.5 810.5,-117.5 810.5,-123.5 810.5,-123.5 810.5,-167.5 810.5,-167.5 810.5,-173.5 804.5,-179.5 798.5,-179.5\"/>\r\n<text text-anchor=\"start\" x=\"720.5\" y=\"-164.3\" font-family=\"Helvetica,sans-Serif\" font-size=\"14.00\">gini = 0.198</text>\r\n<text text-anchor=\"start\" x=\"714.5\" y=\"-149.3\" font-family=\"Helvetica,sans-Serif\" font-size=\"14.00\">samples = 18</text>\r\n<text text-anchor=\"start\" x=\"713.5\" y=\"-134.3\" font-family=\"Helvetica,sans-Serif\" font-size=\"14.00\">value = [2, 16]</text>\r\n<text text-anchor=\"start\" x=\"729\" y=\"-119.3\" font-family=\"Helvetica,sans-Serif\" font-size=\"14.00\">class = 1</text>\r\n</g>\r\n<!-- 11&#45;&gt;13 -->\r\n<g id=\"edge14\" class=\"edge\"><title>11&#45;&gt;13</title>\r\n<path fill=\"none\" stroke=\"black\" d=\"M801.102,-222.907C794.815,-211.763 787.987,-199.658 781.658,-188.439\"/>\r\n<polygon fill=\"black\" stroke=\"black\" points=\"784.671,-186.657 776.71,-179.667 778.574,-190.096 784.671,-186.657\"/>\r\n</g>\r\n<!-- 14 -->\r\n<g id=\"node16\" class=\"node\"><title>14</title>\r\n<path fill=\"#e88d4d\" stroke=\"black\" d=\"M939,-187C939,-187 841,-187 841,-187 835,-187 829,-181 829,-175 829,-175 829,-116 829,-116 829,-110 835,-104 841,-104 841,-104 939,-104 939,-104 945,-104 951,-110 951,-116 951,-116 951,-175 951,-175 951,-181 945,-187 939,-187\"/>\r\n<text text-anchor=\"start\" x=\"843.5\" y=\"-171.8\" font-family=\"Helvetica,sans-Serif\" font-size=\"14.00\">Entropy ≤ 0.23</text>\r\n<text text-anchor=\"start\" x=\"852.5\" y=\"-156.8\" font-family=\"Helvetica,sans-Serif\" font-size=\"14.00\">gini = 0.164</text>\r\n<text text-anchor=\"start\" x=\"842.5\" y=\"-141.8\" font-family=\"Helvetica,sans-Serif\" font-size=\"14.00\">samples = 122</text>\r\n<text text-anchor=\"start\" x=\"837\" y=\"-126.8\" font-family=\"Helvetica,sans-Serif\" font-size=\"14.00\">value = [111, 11]</text>\r\n<text text-anchor=\"start\" x=\"861\" y=\"-111.8\" font-family=\"Helvetica,sans-Serif\" font-size=\"14.00\">class = 0</text>\r\n</g>\r\n<!-- 11&#45;&gt;14 -->\r\n<g id=\"edge15\" class=\"edge\"><title>11&#45;&gt;14</title>\r\n<path fill=\"none\" stroke=\"black\" d=\"M846.898,-222.907C851.813,-214.195 857.058,-204.897 862.137,-195.893\"/>\r\n<polygon fill=\"black\" stroke=\"black\" points=\"865.277,-197.45 867.142,-187.021 859.18,-194.011 865.277,-197.45\"/>\r\n</g>\r\n<!-- 15 -->\r\n<g id=\"node17\" class=\"node\"><title>15</title>\r\n<path fill=\"#e58139\" stroke=\"black\" d=\"M866.5,-68C866.5,-68 785.5,-68 785.5,-68 779.5,-68 773.5,-62 773.5,-56 773.5,-56 773.5,-12 773.5,-12 773.5,-6 779.5,-0 785.5,-0 785.5,-0 866.5,-0 866.5,-0 872.5,-0 878.5,-6 878.5,-12 878.5,-12 878.5,-56 878.5,-56 878.5,-62 872.5,-68 866.5,-68\"/>\r\n<text text-anchor=\"start\" x=\"797\" y=\"-52.8\" font-family=\"Helvetica,sans-Serif\" font-size=\"14.00\">gini = 0.0</text>\r\n<text text-anchor=\"start\" x=\"782.5\" y=\"-37.8\" font-family=\"Helvetica,sans-Serif\" font-size=\"14.00\">samples = 98</text>\r\n<text text-anchor=\"start\" x=\"781.5\" y=\"-22.8\" font-family=\"Helvetica,sans-Serif\" font-size=\"14.00\">value = [98, 0]</text>\r\n<text text-anchor=\"start\" x=\"797\" y=\"-7.8\" font-family=\"Helvetica,sans-Serif\" font-size=\"14.00\">class = 0</text>\r\n</g>\r\n<!-- 14&#45;&gt;15 -->\r\n<g id=\"edge16\" class=\"edge\"><title>14&#45;&gt;15</title>\r\n<path fill=\"none\" stroke=\"black\" d=\"M866.169,-103.726C861.104,-95.0615 855.748,-85.8962 850.653,-77.1802\"/>\r\n<polygon fill=\"black\" stroke=\"black\" points=\"853.531,-75.167 845.463,-68.2996 847.487,-78.6992 853.531,-75.167\"/>\r\n</g>\r\n<!-- 16 -->\r\n<g id=\"node18\" class=\"node\"><title>16</title>\r\n<path fill=\"#fbece1\" stroke=\"black\" d=\"M997.5,-68C997.5,-68 908.5,-68 908.5,-68 902.5,-68 896.5,-62 896.5,-56 896.5,-56 896.5,-12 896.5,-12 896.5,-6 902.5,-0 908.5,-0 908.5,-0 997.5,-0 997.5,-0 1003.5,-0 1009.5,-6 1009.5,-12 1009.5,-12 1009.5,-56 1009.5,-56 1009.5,-62 1003.5,-68 997.5,-68\"/>\r\n<text text-anchor=\"start\" x=\"915.5\" y=\"-52.8\" font-family=\"Helvetica,sans-Serif\" font-size=\"14.00\">gini = 0.497</text>\r\n<text text-anchor=\"start\" x=\"909.5\" y=\"-37.8\" font-family=\"Helvetica,sans-Serif\" font-size=\"14.00\">samples = 24</text>\r\n<text text-anchor=\"start\" x=\"904.5\" y=\"-22.8\" font-family=\"Helvetica,sans-Serif\" font-size=\"14.00\">value = [13, 11]</text>\r\n<text text-anchor=\"start\" x=\"924\" y=\"-7.8\" font-family=\"Helvetica,sans-Serif\" font-size=\"14.00\">class = 0</text>\r\n</g>\r\n<!-- 14&#45;&gt;16 -->\r\n<g id=\"edge17\" class=\"edge\"><title>14&#45;&gt;16</title>\r\n<path fill=\"none\" stroke=\"black\" d=\"M913.459,-103.726C918.444,-95.0615 923.717,-85.8962 928.732,-77.1802\"/>\r\n<polygon fill=\"black\" stroke=\"black\" points=\"931.888,-78.7128 933.841,-68.2996 925.821,-75.2219 931.888,-78.7128\"/>\r\n</g>\r\n</g>\r\n</svg>\r\n",
      "text/plain": [
       "<graphviz.files.Source at 0x29cab4ab088>"
      ]
     },
     "execution_count": 51,
     "metadata": {},
     "output_type": "execute_result"
    }
   ],
   "source": [
    "# e poi in forma grafica\n"
   ]
  },
  {
   "cell_type": "code",
   "execution_count": 52,
   "metadata": {},
   "outputs": [
    {
     "data": {
      "text/plain": [
       "array([1.])"
      ]
     },
     "execution_count": 52,
     "metadata": {},
     "output_type": "execute_result"
    }
   ],
   "source": [
    "# proviamo a determinare adesso se la banconota \n",
    "# di cui abbiamo avuto le caratteristiche all'inizio dell'esercizio è vera o è falsa:\n"
   ]
  },
  {
   "cell_type": "code",
   "execution_count": 24,
   "metadata": {},
   "outputs": [],
   "source": [
    "# la banconota è vera o falsa?\n",
    "# risposta:"
   ]
  },
  {
   "cell_type": "code",
   "execution_count": 53,
   "metadata": {},
   "outputs": [
    {
     "name": "stdout",
     "output_type": "stream",
     "text": [
      "     Variance  Skewness  Curtosis  Entropy  Class\n",
      "998   -3.0866   -6.6362   10.5405 -0.89182      1\n"
     ]
    }
   ],
   "source": [
    "# la banconota che abbiamo testato in realtà è una di quelle giè presenti nel dataset. \n",
    "# Provate ad andare a vedere nel dataframe Pandas se la predizione del metodo è corretta o meno\n",
    "# cercando alcune caratteristiche delòa nostra banconota, ad esempio 'Variance' = -3.0866, 'Skewness' = -6.6362 e\n",
    "# 'Curtosis' = 10.5405\n"
   ]
  },
  {
   "cell_type": "code",
   "execution_count": 26,
   "metadata": {},
   "outputs": [],
   "source": [
    "# il metodo ha predetto correttamente il risultato?\n",
    "# risposta:"
   ]
  }
 ],
 "metadata": {
  "kernelspec": {
   "display_name": "Python 3",
   "language": "python",
   "name": "python3"
  },
  "language_info": {
   "codemirror_mode": {
    "name": "ipython",
    "version": 3
   },
   "file_extension": ".py",
   "mimetype": "text/x-python",
   "name": "python",
   "nbconvert_exporter": "python",
   "pygments_lexer": "ipython3",
   "version": "3.9.2"
  }
 },
 "nbformat": 4,
 "nbformat_minor": 4
}
